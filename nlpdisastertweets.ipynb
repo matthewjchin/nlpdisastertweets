{
 "cells": [
  {
   "cell_type": "markdown",
   "id": "9891c0e0",
   "metadata": {
    "papermill": {
     "duration": 0.009027,
     "end_time": "2025-06-22T07:50:21.884453",
     "exception": false,
     "start_time": "2025-06-22T07:50:21.875426",
     "status": "completed"
    },
    "tags": []
   },
   "source": [
    "<h1>Natural Language Processing with Disaster Tweets</h1>\n",
    "\n",
    "<a id = 'intro'></a>\n",
    "# Introduction\n",
    "<br>\n",
    "This competition involves predicting which tweets are about actual disasters and which are not. The goal of this project is to get a submission CSV file which lists the tweet IDs with respective targets: any tweet that is about a disaster is marked with a 1; any non-disaster related tweet is marked 0. "
   ]
  },
  {
   "cell_type": "code",
   "execution_count": 1,
   "id": "6f38673a",
   "metadata": {
    "_cell_guid": "b1076dfc-b9ad-4769-8c92-a6c4dae69d19",
    "_uuid": "8f2839f25d086af736a60e9eeb907d3b93b6e0e5",
    "execution": {
     "iopub.execute_input": "2025-06-22T07:50:21.900820Z",
     "iopub.status.busy": "2025-06-22T07:50:21.900588Z",
     "iopub.status.idle": "2025-06-22T07:50:24.660776Z",
     "shell.execute_reply": "2025-06-22T07:50:24.660194Z"
    },
    "papermill": {
     "duration": 2.76981,
     "end_time": "2025-06-22T07:50:24.662088",
     "exception": false,
     "start_time": "2025-06-22T07:50:21.892278",
     "status": "completed"
    },
    "tags": []
   },
   "outputs": [
    {
     "name": "stdout",
     "output_type": "stream",
     "text": [
      "/kaggle/input/nlp-getting-started/sample_submission.csv\n",
      "/kaggle/input/nlp-getting-started/train.csv\n",
      "/kaggle/input/nlp-getting-started/test.csv\n",
      "/kaggle/input/distil_bert/keras/distil_bert_base_en_uncased/2/config.json\n",
      "/kaggle/input/distil_bert/keras/distil_bert_base_en_uncased/2/tokenizer.json\n",
      "/kaggle/input/distil_bert/keras/distil_bert_base_en_uncased/2/metadata.json\n",
      "/kaggle/input/distil_bert/keras/distil_bert_base_en_uncased/2/model.weights.h5\n",
      "/kaggle/input/distil_bert/keras/distil_bert_base_en_uncased/2/assets/tokenizer/vocabulary.txt\n"
     ]
    }
   ],
   "source": [
    "# This Python 3 environment comes with many helpful analytics libraries installed\n",
    "# It is defined by the kaggle/python Docker image: https://github.com/kaggle/docker-python\n",
    "# For example, here's several helpful packages to load\n",
    "\n",
    "import numpy as np # linear algebra\n",
    "import pandas as pd # data processing, CSV file I/O (e.g. pd.read_csv)\n",
    "\n",
    "# Input data files are available in the read-only \"../input/\" directory\n",
    "# For example, running this (by clicking run or pressing Shift+Enter) will list all files under the input directory\n",
    "\n",
    "import os\n",
    "for dirname, _, filenames in os.walk('/kaggle/input'):\n",
    "    for filename in filenames:\n",
    "        print(os.path.join(dirname, filename))\n",
    "\n",
    "# You can write up to 20GB to the current directory (/kaggle/working/) that gets preserved as output when you create a version using \"Save & Run All\" \n",
    "# You can also write temporary files to /kaggle/temp/, but they won't be saved outside of the current session\n",
    "\n",
    "# Import plotting libraries\n",
    "import matplotlib.pyplot as plt\n",
    "import seaborn as sns"
   ]
  },
  {
   "cell_type": "code",
   "execution_count": 2,
   "id": "2d2ae4f8",
   "metadata": {
    "execution": {
     "iopub.execute_input": "2025-06-22T07:50:24.678740Z",
     "iopub.status.busy": "2025-06-22T07:50:24.678419Z",
     "iopub.status.idle": "2025-06-22T07:50:24.683461Z",
     "shell.execute_reply": "2025-06-22T07:50:24.682674Z"
    },
    "papermill": {
     "duration": 0.014426,
     "end_time": "2025-06-22T07:50:24.684567",
     "exception": false,
     "start_time": "2025-06-22T07:50:24.670141",
     "status": "completed"
    },
    "tags": []
   },
   "outputs": [
    {
     "data": {
      "text/plain": [
       "'/kaggle/working'"
      ]
     },
     "execution_count": 2,
     "metadata": {},
     "output_type": "execute_result"
    }
   ],
   "source": [
    "# Get current working directory\n",
    "os.getcwd()"
   ]
  },
  {
   "cell_type": "markdown",
   "id": "5e88af7f",
   "metadata": {
    "papermill": {
     "duration": 0.007926,
     "end_time": "2025-06-22T07:50:24.700372",
     "exception": false,
     "start_time": "2025-06-22T07:50:24.692446",
     "status": "completed"
    },
    "tags": []
   },
   "source": [
    "<a id='EDA'></a>\n",
    "# Exploratory Data Analysis\n",
    "Before getting information on the training data, take a look at what the sample submission is expected to be. "
   ]
  },
  {
   "cell_type": "code",
   "execution_count": 3,
   "id": "a7babb3d",
   "metadata": {
    "execution": {
     "iopub.execute_input": "2025-06-22T07:50:24.717135Z",
     "iopub.status.busy": "2025-06-22T07:50:24.716437Z",
     "iopub.status.idle": "2025-06-22T07:50:24.742495Z",
     "shell.execute_reply": "2025-06-22T07:50:24.741866Z"
    },
    "papermill": {
     "duration": 0.0353,
     "end_time": "2025-06-22T07:50:24.743535",
     "exception": false,
     "start_time": "2025-06-22T07:50:24.708235",
     "status": "completed"
    },
    "tags": []
   },
   "outputs": [
    {
     "data": {
      "text/html": [
       "<div>\n",
       "<style scoped>\n",
       "    .dataframe tbody tr th:only-of-type {\n",
       "        vertical-align: middle;\n",
       "    }\n",
       "\n",
       "    .dataframe tbody tr th {\n",
       "        vertical-align: top;\n",
       "    }\n",
       "\n",
       "    .dataframe thead th {\n",
       "        text-align: right;\n",
       "    }\n",
       "</style>\n",
       "<table border=\"1\" class=\"dataframe\">\n",
       "  <thead>\n",
       "    <tr style=\"text-align: right;\">\n",
       "      <th></th>\n",
       "      <th>id</th>\n",
       "      <th>target</th>\n",
       "    </tr>\n",
       "  </thead>\n",
       "  <tbody>\n",
       "    <tr>\n",
       "      <th>0</th>\n",
       "      <td>0</td>\n",
       "      <td>0</td>\n",
       "    </tr>\n",
       "    <tr>\n",
       "      <th>1</th>\n",
       "      <td>2</td>\n",
       "      <td>0</td>\n",
       "    </tr>\n",
       "    <tr>\n",
       "      <th>2</th>\n",
       "      <td>3</td>\n",
       "      <td>0</td>\n",
       "    </tr>\n",
       "    <tr>\n",
       "      <th>3</th>\n",
       "      <td>9</td>\n",
       "      <td>0</td>\n",
       "    </tr>\n",
       "    <tr>\n",
       "      <th>4</th>\n",
       "      <td>11</td>\n",
       "      <td>0</td>\n",
       "    </tr>\n",
       "  </tbody>\n",
       "</table>\n",
       "</div>"
      ],
      "text/plain": [
       "   id  target\n",
       "0   0       0\n",
       "1   2       0\n",
       "2   3       0\n",
       "3   9       0\n",
       "4  11       0"
      ]
     },
     "execution_count": 3,
     "metadata": {},
     "output_type": "execute_result"
    }
   ],
   "source": [
    "sample = pd.read_csv(\"/kaggle/input/nlp-getting-started/sample_submission.csv\")\n",
    "sample.head()"
   ]
  },
  {
   "cell_type": "markdown",
   "id": "f619d521",
   "metadata": {
    "papermill": {
     "duration": 0.007705,
     "end_time": "2025-06-22T07:50:24.759490",
     "exception": false,
     "start_time": "2025-06-22T07:50:24.751785",
     "status": "completed"
    },
    "tags": []
   },
   "source": [
    "Now, get basic information on the training data. Look at the train.csv file and get the first five rows of tweets."
   ]
  },
  {
   "cell_type": "code",
   "execution_count": 4,
   "id": "acaf88f6",
   "metadata": {
    "execution": {
     "iopub.execute_input": "2025-06-22T07:50:24.775798Z",
     "iopub.status.busy": "2025-06-22T07:50:24.775579Z",
     "iopub.status.idle": "2025-06-22T07:50:24.817561Z",
     "shell.execute_reply": "2025-06-22T07:50:24.816843Z"
    },
    "papermill": {
     "duration": 0.051599,
     "end_time": "2025-06-22T07:50:24.818879",
     "exception": false,
     "start_time": "2025-06-22T07:50:24.767280",
     "status": "completed"
    },
    "tags": []
   },
   "outputs": [
    {
     "data": {
      "text/html": [
       "<div>\n",
       "<style scoped>\n",
       "    .dataframe tbody tr th:only-of-type {\n",
       "        vertical-align: middle;\n",
       "    }\n",
       "\n",
       "    .dataframe tbody tr th {\n",
       "        vertical-align: top;\n",
       "    }\n",
       "\n",
       "    .dataframe thead th {\n",
       "        text-align: right;\n",
       "    }\n",
       "</style>\n",
       "<table border=\"1\" class=\"dataframe\">\n",
       "  <thead>\n",
       "    <tr style=\"text-align: right;\">\n",
       "      <th></th>\n",
       "      <th>id</th>\n",
       "      <th>keyword</th>\n",
       "      <th>location</th>\n",
       "      <th>text</th>\n",
       "      <th>target</th>\n",
       "    </tr>\n",
       "  </thead>\n",
       "  <tbody>\n",
       "    <tr>\n",
       "      <th>0</th>\n",
       "      <td>1</td>\n",
       "      <td>NaN</td>\n",
       "      <td>NaN</td>\n",
       "      <td>Our Deeds are the Reason of this #earthquake M...</td>\n",
       "      <td>1</td>\n",
       "    </tr>\n",
       "    <tr>\n",
       "      <th>1</th>\n",
       "      <td>4</td>\n",
       "      <td>NaN</td>\n",
       "      <td>NaN</td>\n",
       "      <td>Forest fire near La Ronge Sask. Canada</td>\n",
       "      <td>1</td>\n",
       "    </tr>\n",
       "    <tr>\n",
       "      <th>2</th>\n",
       "      <td>5</td>\n",
       "      <td>NaN</td>\n",
       "      <td>NaN</td>\n",
       "      <td>All residents asked to 'shelter in place' are ...</td>\n",
       "      <td>1</td>\n",
       "    </tr>\n",
       "    <tr>\n",
       "      <th>3</th>\n",
       "      <td>6</td>\n",
       "      <td>NaN</td>\n",
       "      <td>NaN</td>\n",
       "      <td>13,000 people receive #wildfires evacuation or...</td>\n",
       "      <td>1</td>\n",
       "    </tr>\n",
       "    <tr>\n",
       "      <th>4</th>\n",
       "      <td>7</td>\n",
       "      <td>NaN</td>\n",
       "      <td>NaN</td>\n",
       "      <td>Just got sent this photo from Ruby #Alaska as ...</td>\n",
       "      <td>1</td>\n",
       "    </tr>\n",
       "  </tbody>\n",
       "</table>\n",
       "</div>"
      ],
      "text/plain": [
       "   id keyword location                                               text  \\\n",
       "0   1     NaN      NaN  Our Deeds are the Reason of this #earthquake M...   \n",
       "1   4     NaN      NaN             Forest fire near La Ronge Sask. Canada   \n",
       "2   5     NaN      NaN  All residents asked to 'shelter in place' are ...   \n",
       "3   6     NaN      NaN  13,000 people receive #wildfires evacuation or...   \n",
       "4   7     NaN      NaN  Just got sent this photo from Ruby #Alaska as ...   \n",
       "\n",
       "   target  \n",
       "0       1  \n",
       "1       1  \n",
       "2       1  \n",
       "3       1  \n",
       "4       1  "
      ]
     },
     "execution_count": 4,
     "metadata": {},
     "output_type": "execute_result"
    }
   ],
   "source": [
    "# Get info on the training data\n",
    "train_data = pd.read_csv(\"/kaggle/input/nlp-getting-started/train.csv\")\n",
    "train_data.head()"
   ]
  },
  {
   "cell_type": "code",
   "execution_count": 5,
   "id": "fa687ae9",
   "metadata": {
    "execution": {
     "iopub.execute_input": "2025-06-22T07:50:24.836895Z",
     "iopub.status.busy": "2025-06-22T07:50:24.836653Z",
     "iopub.status.idle": "2025-06-22T07:50:24.841536Z",
     "shell.execute_reply": "2025-06-22T07:50:24.841063Z"
    },
    "papermill": {
     "duration": 0.014533,
     "end_time": "2025-06-22T07:50:24.842531",
     "exception": false,
     "start_time": "2025-06-22T07:50:24.827998",
     "status": "completed"
    },
    "tags": []
   },
   "outputs": [
    {
     "data": {
      "text/plain": [
       "Index(['id', 'keyword', 'location', 'text', 'target'], dtype='object')"
      ]
     },
     "execution_count": 5,
     "metadata": {},
     "output_type": "execute_result"
    }
   ],
   "source": [
    "# Get the columns' names on the train data\n",
    "train_data.columns"
   ]
  },
  {
   "cell_type": "code",
   "execution_count": 6,
   "id": "aab8afec",
   "metadata": {
    "execution": {
     "iopub.execute_input": "2025-06-22T07:50:24.859832Z",
     "iopub.status.busy": "2025-06-22T07:50:24.859609Z",
     "iopub.status.idle": "2025-06-22T07:50:24.863691Z",
     "shell.execute_reply": "2025-06-22T07:50:24.863047Z"
    },
    "papermill": {
     "duration": 0.013604,
     "end_time": "2025-06-22T07:50:24.864684",
     "exception": false,
     "start_time": "2025-06-22T07:50:24.851080",
     "status": "completed"
    },
    "tags": []
   },
   "outputs": [
    {
     "data": {
      "text/plain": [
       "(7613, 5)"
      ]
     },
     "execution_count": 6,
     "metadata": {},
     "output_type": "execute_result"
    }
   ],
   "source": [
    "# Get the train data structure's shape\n",
    "train_data.shape"
   ]
  },
  {
   "cell_type": "code",
   "execution_count": 7,
   "id": "a01ee594",
   "metadata": {
    "execution": {
     "iopub.execute_input": "2025-06-22T07:50:24.881551Z",
     "iopub.status.busy": "2025-06-22T07:50:24.881364Z",
     "iopub.status.idle": "2025-06-22T07:50:24.887439Z",
     "shell.execute_reply": "2025-06-22T07:50:24.886817Z"
    },
    "papermill": {
     "duration": 0.015611,
     "end_time": "2025-06-22T07:50:24.888429",
     "exception": false,
     "start_time": "2025-06-22T07:50:24.872818",
     "status": "completed"
    },
    "tags": []
   },
   "outputs": [
    {
     "data": {
      "text/plain": [
       "id             0\n",
       "keyword       61\n",
       "location    2533\n",
       "text           0\n",
       "target         0\n",
       "dtype: int64"
      ]
     },
     "execution_count": 7,
     "metadata": {},
     "output_type": "execute_result"
    }
   ],
   "source": [
    "train_data.isnull().sum()"
   ]
  },
  {
   "cell_type": "code",
   "execution_count": 8,
   "id": "80461d0a",
   "metadata": {
    "execution": {
     "iopub.execute_input": "2025-06-22T07:50:24.905693Z",
     "iopub.status.busy": "2025-06-22T07:50:24.905321Z",
     "iopub.status.idle": "2025-06-22T07:50:24.922613Z",
     "shell.execute_reply": "2025-06-22T07:50:24.922038Z"
    },
    "papermill": {
     "duration": 0.026875,
     "end_time": "2025-06-22T07:50:24.923728",
     "exception": false,
     "start_time": "2025-06-22T07:50:24.896853",
     "status": "completed"
    },
    "tags": []
   },
   "outputs": [
    {
     "name": "stdout",
     "output_type": "stream",
     "text": [
      "<class 'pandas.core.frame.DataFrame'>\n",
      "RangeIndex: 7613 entries, 0 to 7612\n",
      "Data columns (total 5 columns):\n",
      " #   Column    Non-Null Count  Dtype \n",
      "---  ------    --------------  ----- \n",
      " 0   id        7613 non-null   int64 \n",
      " 1   keyword   7552 non-null   object\n",
      " 2   location  5080 non-null   object\n",
      " 3   text      7613 non-null   object\n",
      " 4   target    7613 non-null   int64 \n",
      "dtypes: int64(2), object(3)\n",
      "memory usage: 297.5+ KB\n"
     ]
    }
   ],
   "source": [
    "# Get general info on train data\n",
    "train_data.info()"
   ]
  },
  {
   "cell_type": "code",
   "execution_count": 9,
   "id": "6f1e75c1",
   "metadata": {
    "execution": {
     "iopub.execute_input": "2025-06-22T07:50:24.941335Z",
     "iopub.status.busy": "2025-06-22T07:50:24.940950Z",
     "iopub.status.idle": "2025-06-22T07:50:24.950614Z",
     "shell.execute_reply": "2025-06-22T07:50:24.950139Z"
    },
    "papermill": {
     "duration": 0.019355,
     "end_time": "2025-06-22T07:50:24.951590",
     "exception": false,
     "start_time": "2025-06-22T07:50:24.932235",
     "status": "completed"
    },
    "tags": []
   },
   "outputs": [
    {
     "data": {
      "text/plain": [
       "id          7613\n",
       "keyword      221\n",
       "location    3341\n",
       "text        7503\n",
       "target         2\n",
       "dtype: int64"
      ]
     },
     "execution_count": 9,
     "metadata": {},
     "output_type": "execute_result"
    }
   ],
   "source": [
    "# Get the count of unique values on train dataset\n",
    "train_data.nunique()"
   ]
  },
  {
   "cell_type": "code",
   "execution_count": 10,
   "id": "bd9cf40c",
   "metadata": {
    "execution": {
     "iopub.execute_input": "2025-06-22T07:50:24.969219Z",
     "iopub.status.busy": "2025-06-22T07:50:24.968820Z",
     "iopub.status.idle": "2025-06-22T07:50:24.980932Z",
     "shell.execute_reply": "2025-06-22T07:50:24.980348Z"
    },
    "papermill": {
     "duration": 0.021901,
     "end_time": "2025-06-22T07:50:24.982101",
     "exception": false,
     "start_time": "2025-06-22T07:50:24.960200",
     "status": "completed"
    },
    "tags": []
   },
   "outputs": [
    {
     "data": {
      "text/html": [
       "<div>\n",
       "<style scoped>\n",
       "    .dataframe tbody tr th:only-of-type {\n",
       "        vertical-align: middle;\n",
       "    }\n",
       "\n",
       "    .dataframe tbody tr th {\n",
       "        vertical-align: top;\n",
       "    }\n",
       "\n",
       "    .dataframe thead th {\n",
       "        text-align: right;\n",
       "    }\n",
       "</style>\n",
       "<table border=\"1\" class=\"dataframe\">\n",
       "  <thead>\n",
       "    <tr style=\"text-align: right;\">\n",
       "      <th></th>\n",
       "      <th>id</th>\n",
       "      <th>target</th>\n",
       "    </tr>\n",
       "  </thead>\n",
       "  <tbody>\n",
       "    <tr>\n",
       "      <th>count</th>\n",
       "      <td>7613.000000</td>\n",
       "      <td>7613.00000</td>\n",
       "    </tr>\n",
       "    <tr>\n",
       "      <th>mean</th>\n",
       "      <td>5441.934848</td>\n",
       "      <td>0.42966</td>\n",
       "    </tr>\n",
       "    <tr>\n",
       "      <th>std</th>\n",
       "      <td>3137.116090</td>\n",
       "      <td>0.49506</td>\n",
       "    </tr>\n",
       "    <tr>\n",
       "      <th>min</th>\n",
       "      <td>1.000000</td>\n",
       "      <td>0.00000</td>\n",
       "    </tr>\n",
       "    <tr>\n",
       "      <th>25%</th>\n",
       "      <td>2734.000000</td>\n",
       "      <td>0.00000</td>\n",
       "    </tr>\n",
       "    <tr>\n",
       "      <th>50%</th>\n",
       "      <td>5408.000000</td>\n",
       "      <td>0.00000</td>\n",
       "    </tr>\n",
       "    <tr>\n",
       "      <th>75%</th>\n",
       "      <td>8146.000000</td>\n",
       "      <td>1.00000</td>\n",
       "    </tr>\n",
       "    <tr>\n",
       "      <th>max</th>\n",
       "      <td>10873.000000</td>\n",
       "      <td>1.00000</td>\n",
       "    </tr>\n",
       "  </tbody>\n",
       "</table>\n",
       "</div>"
      ],
      "text/plain": [
       "                 id      target\n",
       "count   7613.000000  7613.00000\n",
       "mean    5441.934848     0.42966\n",
       "std     3137.116090     0.49506\n",
       "min        1.000000     0.00000\n",
       "25%     2734.000000     0.00000\n",
       "50%     5408.000000     0.00000\n",
       "75%     8146.000000     1.00000\n",
       "max    10873.000000     1.00000"
      ]
     },
     "execution_count": 10,
     "metadata": {},
     "output_type": "execute_result"
    }
   ],
   "source": [
    "# Get descriptive statistics on train_data\n",
    "train_data.describe()"
   ]
  },
  {
   "cell_type": "markdown",
   "id": "2d2dcdba",
   "metadata": {
    "papermill": {
     "duration": 0.008476,
     "end_time": "2025-06-22T07:50:24.999164",
     "exception": false,
     "start_time": "2025-06-22T07:50:24.990688",
     "status": "completed"
    },
    "tags": []
   },
   "source": [
    "Now, get information on the test data. "
   ]
  },
  {
   "cell_type": "code",
   "execution_count": 11,
   "id": "20be922c",
   "metadata": {
    "execution": {
     "iopub.execute_input": "2025-06-22T07:50:25.016573Z",
     "iopub.status.busy": "2025-06-22T07:50:25.016390Z",
     "iopub.status.idle": "2025-06-22T07:50:25.039392Z",
     "shell.execute_reply": "2025-06-22T07:50:25.038901Z"
    },
    "papermill": {
     "duration": 0.032973,
     "end_time": "2025-06-22T07:50:25.040409",
     "exception": false,
     "start_time": "2025-06-22T07:50:25.007436",
     "status": "completed"
    },
    "tags": []
   },
   "outputs": [
    {
     "data": {
      "text/html": [
       "<div>\n",
       "<style scoped>\n",
       "    .dataframe tbody tr th:only-of-type {\n",
       "        vertical-align: middle;\n",
       "    }\n",
       "\n",
       "    .dataframe tbody tr th {\n",
       "        vertical-align: top;\n",
       "    }\n",
       "\n",
       "    .dataframe thead th {\n",
       "        text-align: right;\n",
       "    }\n",
       "</style>\n",
       "<table border=\"1\" class=\"dataframe\">\n",
       "  <thead>\n",
       "    <tr style=\"text-align: right;\">\n",
       "      <th></th>\n",
       "      <th>id</th>\n",
       "      <th>keyword</th>\n",
       "      <th>location</th>\n",
       "      <th>text</th>\n",
       "    </tr>\n",
       "  </thead>\n",
       "  <tbody>\n",
       "    <tr>\n",
       "      <th>0</th>\n",
       "      <td>0</td>\n",
       "      <td>NaN</td>\n",
       "      <td>NaN</td>\n",
       "      <td>Just happened a terrible car crash</td>\n",
       "    </tr>\n",
       "    <tr>\n",
       "      <th>1</th>\n",
       "      <td>2</td>\n",
       "      <td>NaN</td>\n",
       "      <td>NaN</td>\n",
       "      <td>Heard about #earthquake is different cities, s...</td>\n",
       "    </tr>\n",
       "    <tr>\n",
       "      <th>2</th>\n",
       "      <td>3</td>\n",
       "      <td>NaN</td>\n",
       "      <td>NaN</td>\n",
       "      <td>there is a forest fire at spot pond, geese are...</td>\n",
       "    </tr>\n",
       "    <tr>\n",
       "      <th>3</th>\n",
       "      <td>9</td>\n",
       "      <td>NaN</td>\n",
       "      <td>NaN</td>\n",
       "      <td>Apocalypse lighting. #Spokane #wildfires</td>\n",
       "    </tr>\n",
       "    <tr>\n",
       "      <th>4</th>\n",
       "      <td>11</td>\n",
       "      <td>NaN</td>\n",
       "      <td>NaN</td>\n",
       "      <td>Typhoon Soudelor kills 28 in China and Taiwan</td>\n",
       "    </tr>\n",
       "  </tbody>\n",
       "</table>\n",
       "</div>"
      ],
      "text/plain": [
       "   id keyword location                                               text\n",
       "0   0     NaN      NaN                 Just happened a terrible car crash\n",
       "1   2     NaN      NaN  Heard about #earthquake is different cities, s...\n",
       "2   3     NaN      NaN  there is a forest fire at spot pond, geese are...\n",
       "3   9     NaN      NaN           Apocalypse lighting. #Spokane #wildfires\n",
       "4  11     NaN      NaN      Typhoon Soudelor kills 28 in China and Taiwan"
      ]
     },
     "execution_count": 11,
     "metadata": {},
     "output_type": "execute_result"
    }
   ],
   "source": [
    "# Get info on the test data\n",
    "test_data = pd.read_csv(\"/kaggle/input/nlp-getting-started/test.csv\")\n",
    "test_data.head()"
   ]
  },
  {
   "cell_type": "code",
   "execution_count": 12,
   "id": "89f79ce0",
   "metadata": {
    "execution": {
     "iopub.execute_input": "2025-06-22T07:50:25.058200Z",
     "iopub.status.busy": "2025-06-22T07:50:25.058020Z",
     "iopub.status.idle": "2025-06-22T07:50:25.062056Z",
     "shell.execute_reply": "2025-06-22T07:50:25.061389Z"
    },
    "papermill": {
     "duration": 0.014137,
     "end_time": "2025-06-22T07:50:25.063055",
     "exception": false,
     "start_time": "2025-06-22T07:50:25.048918",
     "status": "completed"
    },
    "tags": []
   },
   "outputs": [
    {
     "data": {
      "text/plain": [
       "Index(['id', 'keyword', 'location', 'text'], dtype='object')"
      ]
     },
     "execution_count": 12,
     "metadata": {},
     "output_type": "execute_result"
    }
   ],
   "source": [
    "test_data.columns"
   ]
  },
  {
   "cell_type": "code",
   "execution_count": 13,
   "id": "a3b4079f",
   "metadata": {
    "execution": {
     "iopub.execute_input": "2025-06-22T07:50:25.121718Z",
     "iopub.status.busy": "2025-06-22T07:50:25.121141Z",
     "iopub.status.idle": "2025-06-22T07:50:25.125466Z",
     "shell.execute_reply": "2025-06-22T07:50:25.124993Z"
    },
    "papermill": {
     "duration": 0.014536,
     "end_time": "2025-06-22T07:50:25.126479",
     "exception": false,
     "start_time": "2025-06-22T07:50:25.111943",
     "status": "completed"
    },
    "tags": []
   },
   "outputs": [
    {
     "data": {
      "text/plain": [
       "(3263, 4)"
      ]
     },
     "execution_count": 13,
     "metadata": {},
     "output_type": "execute_result"
    }
   ],
   "source": [
    "test_data.shape"
   ]
  },
  {
   "cell_type": "code",
   "execution_count": 14,
   "id": "72e3a5a0",
   "metadata": {
    "execution": {
     "iopub.execute_input": "2025-06-22T07:50:25.144704Z",
     "iopub.status.busy": "2025-06-22T07:50:25.144180Z",
     "iopub.status.idle": "2025-06-22T07:50:25.152981Z",
     "shell.execute_reply": "2025-06-22T07:50:25.152186Z"
    },
    "papermill": {
     "duration": 0.018922,
     "end_time": "2025-06-22T07:50:25.154024",
     "exception": false,
     "start_time": "2025-06-22T07:50:25.135102",
     "status": "completed"
    },
    "tags": []
   },
   "outputs": [
    {
     "name": "stdout",
     "output_type": "stream",
     "text": [
      "<class 'pandas.core.frame.DataFrame'>\n",
      "RangeIndex: 3263 entries, 0 to 3262\n",
      "Data columns (total 4 columns):\n",
      " #   Column    Non-Null Count  Dtype \n",
      "---  ------    --------------  ----- \n",
      " 0   id        3263 non-null   int64 \n",
      " 1   keyword   3237 non-null   object\n",
      " 2   location  2158 non-null   object\n",
      " 3   text      3263 non-null   object\n",
      "dtypes: int64(1), object(3)\n",
      "memory usage: 102.1+ KB\n"
     ]
    }
   ],
   "source": [
    "test_data.info()"
   ]
  },
  {
   "cell_type": "code",
   "execution_count": 15,
   "id": "5c172f9c",
   "metadata": {
    "execution": {
     "iopub.execute_input": "2025-06-22T07:50:25.171916Z",
     "iopub.status.busy": "2025-06-22T07:50:25.171719Z",
     "iopub.status.idle": "2025-06-22T07:50:25.178570Z",
     "shell.execute_reply": "2025-06-22T07:50:25.178057Z"
    },
    "papermill": {
     "duration": 0.016952,
     "end_time": "2025-06-22T07:50:25.179592",
     "exception": false,
     "start_time": "2025-06-22T07:50:25.162640",
     "status": "completed"
    },
    "tags": []
   },
   "outputs": [
    {
     "data": {
      "text/plain": [
       "id          3263\n",
       "keyword      221\n",
       "location    1602\n",
       "text        3243\n",
       "dtype: int64"
      ]
     },
     "execution_count": 15,
     "metadata": {},
     "output_type": "execute_result"
    }
   ],
   "source": [
    "# Check on the number of unique elements\n",
    "test_data.nunique()"
   ]
  },
  {
   "cell_type": "code",
   "execution_count": 16,
   "id": "035621e2",
   "metadata": {
    "execution": {
     "iopub.execute_input": "2025-06-22T07:50:25.198715Z",
     "iopub.status.busy": "2025-06-22T07:50:25.198504Z",
     "iopub.status.idle": "2025-06-22T07:50:25.207062Z",
     "shell.execute_reply": "2025-06-22T07:50:25.206410Z"
    },
    "papermill": {
     "duration": 0.019266,
     "end_time": "2025-06-22T07:50:25.208158",
     "exception": false,
     "start_time": "2025-06-22T07:50:25.188892",
     "status": "completed"
    },
    "tags": []
   },
   "outputs": [
    {
     "data": {
      "text/html": [
       "<div>\n",
       "<style scoped>\n",
       "    .dataframe tbody tr th:only-of-type {\n",
       "        vertical-align: middle;\n",
       "    }\n",
       "\n",
       "    .dataframe tbody tr th {\n",
       "        vertical-align: top;\n",
       "    }\n",
       "\n",
       "    .dataframe thead th {\n",
       "        text-align: right;\n",
       "    }\n",
       "</style>\n",
       "<table border=\"1\" class=\"dataframe\">\n",
       "  <thead>\n",
       "    <tr style=\"text-align: right;\">\n",
       "      <th></th>\n",
       "      <th>id</th>\n",
       "    </tr>\n",
       "  </thead>\n",
       "  <tbody>\n",
       "    <tr>\n",
       "      <th>count</th>\n",
       "      <td>3263.000000</td>\n",
       "    </tr>\n",
       "    <tr>\n",
       "      <th>mean</th>\n",
       "      <td>5427.152927</td>\n",
       "    </tr>\n",
       "    <tr>\n",
       "      <th>std</th>\n",
       "      <td>3146.427221</td>\n",
       "    </tr>\n",
       "    <tr>\n",
       "      <th>min</th>\n",
       "      <td>0.000000</td>\n",
       "    </tr>\n",
       "    <tr>\n",
       "      <th>25%</th>\n",
       "      <td>2683.000000</td>\n",
       "    </tr>\n",
       "    <tr>\n",
       "      <th>50%</th>\n",
       "      <td>5500.000000</td>\n",
       "    </tr>\n",
       "    <tr>\n",
       "      <th>75%</th>\n",
       "      <td>8176.000000</td>\n",
       "    </tr>\n",
       "    <tr>\n",
       "      <th>max</th>\n",
       "      <td>10875.000000</td>\n",
       "    </tr>\n",
       "  </tbody>\n",
       "</table>\n",
       "</div>"
      ],
      "text/plain": [
       "                 id\n",
       "count   3263.000000\n",
       "mean    5427.152927\n",
       "std     3146.427221\n",
       "min        0.000000\n",
       "25%     2683.000000\n",
       "50%     5500.000000\n",
       "75%     8176.000000\n",
       "max    10875.000000"
      ]
     },
     "execution_count": 16,
     "metadata": {},
     "output_type": "execute_result"
    }
   ],
   "source": [
    "# Get descriptive statistics on the test data\n",
    "test_data.describe()"
   ]
  },
  {
   "cell_type": "code",
   "execution_count": 17,
   "id": "e37dace2",
   "metadata": {
    "execution": {
     "iopub.execute_input": "2025-06-22T07:50:25.226818Z",
     "iopub.status.busy": "2025-06-22T07:50:25.226413Z",
     "iopub.status.idle": "2025-06-22T07:50:25.238485Z",
     "shell.execute_reply": "2025-06-22T07:50:25.237675Z"
    },
    "papermill": {
     "duration": 0.022596,
     "end_time": "2025-06-22T07:50:25.239742",
     "exception": false,
     "start_time": "2025-06-22T07:50:25.217146",
     "status": "completed"
    },
    "tags": []
   },
   "outputs": [
    {
     "name": "stdout",
     "output_type": "stream",
     "text": [
      "<class 'pandas.core.frame.DataFrame'>\n",
      "RangeIndex: 7613 entries, 0 to 7612\n",
      "Data columns (total 5 columns):\n",
      " #   Column    Non-Null Count  Dtype \n",
      "---  ------    --------------  ----- \n",
      " 0   id        7613 non-null   int64 \n",
      " 1   keyword   7552 non-null   object\n",
      " 2   location  5080 non-null   object\n",
      " 3   text      7613 non-null   object\n",
      " 4   target    7613 non-null   int64 \n",
      "dtypes: int64(2), object(3)\n",
      "memory usage: 297.5+ KB\n",
      "<class 'pandas.core.frame.DataFrame'>\n",
      "RangeIndex: 3263 entries, 0 to 3262\n",
      "Data columns (total 4 columns):\n",
      " #   Column    Non-Null Count  Dtype \n",
      "---  ------    --------------  ----- \n",
      " 0   id        3263 non-null   int64 \n",
      " 1   keyword   3237 non-null   object\n",
      " 2   location  2158 non-null   object\n",
      " 3   text      3263 non-null   object\n",
      "dtypes: int64(1), object(3)\n",
      "memory usage: 102.1+ KB\n",
      "None None\n",
      "(7613, 5) (3263, 4)\n"
     ]
    }
   ],
   "source": [
    "# Compare the train and test data info and shapes\n",
    "print(train_data.info(), test_data.info())\n",
    "print(train_data.shape, test_data.shape)"
   ]
  },
  {
   "cell_type": "code",
   "execution_count": 18,
   "id": "fb81a92b",
   "metadata": {
    "execution": {
     "iopub.execute_input": "2025-06-22T07:50:25.259169Z",
     "iopub.status.busy": "2025-06-22T07:50:25.258981Z",
     "iopub.status.idle": "2025-06-22T07:50:25.267743Z",
     "shell.execute_reply": "2025-06-22T07:50:25.267188Z"
    },
    "papermill": {
     "duration": 0.019202,
     "end_time": "2025-06-22T07:50:25.268650",
     "exception": false,
     "start_time": "2025-06-22T07:50:25.249448",
     "status": "completed"
    },
    "tags": []
   },
   "outputs": [
    {
     "data": {
      "text/html": [
       "<div>\n",
       "<style scoped>\n",
       "    .dataframe tbody tr th:only-of-type {\n",
       "        vertical-align: middle;\n",
       "    }\n",
       "\n",
       "    .dataframe tbody tr th {\n",
       "        vertical-align: top;\n",
       "    }\n",
       "\n",
       "    .dataframe thead th {\n",
       "        text-align: right;\n",
       "    }\n",
       "</style>\n",
       "<table border=\"1\" class=\"dataframe\">\n",
       "  <thead>\n",
       "    <tr style=\"text-align: right;\">\n",
       "      <th></th>\n",
       "      <th>keyword</th>\n",
       "      <th>text</th>\n",
       "    </tr>\n",
       "  </thead>\n",
       "  <tbody>\n",
       "    <tr>\n",
       "      <th>0</th>\n",
       "      <td>NaN</td>\n",
       "      <td>Just happened a terrible car crash</td>\n",
       "    </tr>\n",
       "    <tr>\n",
       "      <th>1</th>\n",
       "      <td>NaN</td>\n",
       "      <td>Heard about #earthquake is different cities, s...</td>\n",
       "    </tr>\n",
       "    <tr>\n",
       "      <th>2</th>\n",
       "      <td>NaN</td>\n",
       "      <td>there is a forest fire at spot pond, geese are...</td>\n",
       "    </tr>\n",
       "    <tr>\n",
       "      <th>3</th>\n",
       "      <td>NaN</td>\n",
       "      <td>Apocalypse lighting. #Spokane #wildfires</td>\n",
       "    </tr>\n",
       "    <tr>\n",
       "      <th>4</th>\n",
       "      <td>NaN</td>\n",
       "      <td>Typhoon Soudelor kills 28 in China and Taiwan</td>\n",
       "    </tr>\n",
       "    <tr>\n",
       "      <th>...</th>\n",
       "      <td>...</td>\n",
       "      <td>...</td>\n",
       "    </tr>\n",
       "    <tr>\n",
       "      <th>3258</th>\n",
       "      <td>NaN</td>\n",
       "      <td>EARTHQUAKE SAFETY LOS ANGELES ÛÒ SAFETY FASTE...</td>\n",
       "    </tr>\n",
       "    <tr>\n",
       "      <th>3259</th>\n",
       "      <td>NaN</td>\n",
       "      <td>Storm in RI worse than last hurricane. My city...</td>\n",
       "    </tr>\n",
       "    <tr>\n",
       "      <th>3260</th>\n",
       "      <td>NaN</td>\n",
       "      <td>Green Line derailment in Chicago http://t.co/U...</td>\n",
       "    </tr>\n",
       "    <tr>\n",
       "      <th>3261</th>\n",
       "      <td>NaN</td>\n",
       "      <td>MEG issues Hazardous Weather Outlook (HWO) htt...</td>\n",
       "    </tr>\n",
       "    <tr>\n",
       "      <th>3262</th>\n",
       "      <td>NaN</td>\n",
       "      <td>#CityofCalgary has activated its Municipal Eme...</td>\n",
       "    </tr>\n",
       "  </tbody>\n",
       "</table>\n",
       "<p>3263 rows × 2 columns</p>\n",
       "</div>"
      ],
      "text/plain": [
       "     keyword                                               text\n",
       "0        NaN                 Just happened a terrible car crash\n",
       "1        NaN  Heard about #earthquake is different cities, s...\n",
       "2        NaN  there is a forest fire at spot pond, geese are...\n",
       "3        NaN           Apocalypse lighting. #Spokane #wildfires\n",
       "4        NaN      Typhoon Soudelor kills 28 in China and Taiwan\n",
       "...      ...                                                ...\n",
       "3258     NaN  EARTHQUAKE SAFETY LOS ANGELES ÛÒ SAFETY FASTE...\n",
       "3259     NaN  Storm in RI worse than last hurricane. My city...\n",
       "3260     NaN  Green Line derailment in Chicago http://t.co/U...\n",
       "3261     NaN  MEG issues Hazardous Weather Outlook (HWO) htt...\n",
       "3262     NaN  #CityofCalgary has activated its Municipal Eme...\n",
       "\n",
       "[3263 rows x 2 columns]"
      ]
     },
     "execution_count": 18,
     "metadata": {},
     "output_type": "execute_result"
    }
   ],
   "source": [
    "# Remove the columns location, id from test_data; not necessary\n",
    "test_data = test_data.loc[:, ['keyword', 'text']]\n",
    "test_data"
   ]
  },
  {
   "cell_type": "code",
   "execution_count": 19,
   "id": "bac116b8",
   "metadata": {
    "execution": {
     "iopub.execute_input": "2025-06-22T07:50:25.288321Z",
     "iopub.status.busy": "2025-06-22T07:50:25.288136Z",
     "iopub.status.idle": "2025-06-22T07:50:25.296606Z",
     "shell.execute_reply": "2025-06-22T07:50:25.296079Z"
    },
    "papermill": {
     "duration": 0.018956,
     "end_time": "2025-06-22T07:50:25.297611",
     "exception": false,
     "start_time": "2025-06-22T07:50:25.278655",
     "status": "completed"
    },
    "tags": []
   },
   "outputs": [
    {
     "name": "stdout",
     "output_type": "stream",
     "text": [
      "Index(['id', 'keyword', 'location', 'text', 'target'], dtype='object')\n"
     ]
    },
    {
     "data": {
      "text/html": [
       "<div>\n",
       "<style scoped>\n",
       "    .dataframe tbody tr th:only-of-type {\n",
       "        vertical-align: middle;\n",
       "    }\n",
       "\n",
       "    .dataframe tbody tr th {\n",
       "        vertical-align: top;\n",
       "    }\n",
       "\n",
       "    .dataframe thead th {\n",
       "        text-align: right;\n",
       "    }\n",
       "</style>\n",
       "<table border=\"1\" class=\"dataframe\">\n",
       "  <thead>\n",
       "    <tr style=\"text-align: right;\">\n",
       "      <th></th>\n",
       "      <th>id</th>\n",
       "      <th>keyword</th>\n",
       "      <th>location</th>\n",
       "      <th>text</th>\n",
       "      <th>target</th>\n",
       "    </tr>\n",
       "  </thead>\n",
       "  <tbody>\n",
       "    <tr>\n",
       "      <th>0</th>\n",
       "      <td>1</td>\n",
       "      <td>NaN</td>\n",
       "      <td>NaN</td>\n",
       "      <td>Our Deeds are the Reason of this #earthquake M...</td>\n",
       "      <td>1</td>\n",
       "    </tr>\n",
       "    <tr>\n",
       "      <th>1</th>\n",
       "      <td>4</td>\n",
       "      <td>NaN</td>\n",
       "      <td>NaN</td>\n",
       "      <td>Forest fire near La Ronge Sask. Canada</td>\n",
       "      <td>1</td>\n",
       "    </tr>\n",
       "    <tr>\n",
       "      <th>2</th>\n",
       "      <td>5</td>\n",
       "      <td>NaN</td>\n",
       "      <td>NaN</td>\n",
       "      <td>All residents asked to 'shelter in place' are ...</td>\n",
       "      <td>1</td>\n",
       "    </tr>\n",
       "    <tr>\n",
       "      <th>3</th>\n",
       "      <td>6</td>\n",
       "      <td>NaN</td>\n",
       "      <td>NaN</td>\n",
       "      <td>13,000 people receive #wildfires evacuation or...</td>\n",
       "      <td>1</td>\n",
       "    </tr>\n",
       "    <tr>\n",
       "      <th>4</th>\n",
       "      <td>7</td>\n",
       "      <td>NaN</td>\n",
       "      <td>NaN</td>\n",
       "      <td>Just got sent this photo from Ruby #Alaska as ...</td>\n",
       "      <td>1</td>\n",
       "    </tr>\n",
       "    <tr>\n",
       "      <th>...</th>\n",
       "      <td>...</td>\n",
       "      <td>...</td>\n",
       "      <td>...</td>\n",
       "      <td>...</td>\n",
       "      <td>...</td>\n",
       "    </tr>\n",
       "    <tr>\n",
       "      <th>7608</th>\n",
       "      <td>10869</td>\n",
       "      <td>NaN</td>\n",
       "      <td>NaN</td>\n",
       "      <td>Two giant cranes holding a bridge collapse int...</td>\n",
       "      <td>1</td>\n",
       "    </tr>\n",
       "    <tr>\n",
       "      <th>7609</th>\n",
       "      <td>10870</td>\n",
       "      <td>NaN</td>\n",
       "      <td>NaN</td>\n",
       "      <td>@aria_ahrary @TheTawniest The out of control w...</td>\n",
       "      <td>1</td>\n",
       "    </tr>\n",
       "    <tr>\n",
       "      <th>7610</th>\n",
       "      <td>10871</td>\n",
       "      <td>NaN</td>\n",
       "      <td>NaN</td>\n",
       "      <td>M1.94 [01:04 UTC]?5km S of Volcano Hawaii. htt...</td>\n",
       "      <td>1</td>\n",
       "    </tr>\n",
       "    <tr>\n",
       "      <th>7611</th>\n",
       "      <td>10872</td>\n",
       "      <td>NaN</td>\n",
       "      <td>NaN</td>\n",
       "      <td>Police investigating after an e-bike collided ...</td>\n",
       "      <td>1</td>\n",
       "    </tr>\n",
       "    <tr>\n",
       "      <th>7612</th>\n",
       "      <td>10873</td>\n",
       "      <td>NaN</td>\n",
       "      <td>NaN</td>\n",
       "      <td>The Latest: More Homes Razed by Northern Calif...</td>\n",
       "      <td>1</td>\n",
       "    </tr>\n",
       "  </tbody>\n",
       "</table>\n",
       "<p>7613 rows × 5 columns</p>\n",
       "</div>"
      ],
      "text/plain": [
       "         id keyword location  \\\n",
       "0         1     NaN      NaN   \n",
       "1         4     NaN      NaN   \n",
       "2         5     NaN      NaN   \n",
       "3         6     NaN      NaN   \n",
       "4         7     NaN      NaN   \n",
       "...     ...     ...      ...   \n",
       "7608  10869     NaN      NaN   \n",
       "7609  10870     NaN      NaN   \n",
       "7610  10871     NaN      NaN   \n",
       "7611  10872     NaN      NaN   \n",
       "7612  10873     NaN      NaN   \n",
       "\n",
       "                                                   text  target  \n",
       "0     Our Deeds are the Reason of this #earthquake M...       1  \n",
       "1                Forest fire near La Ronge Sask. Canada       1  \n",
       "2     All residents asked to 'shelter in place' are ...       1  \n",
       "3     13,000 people receive #wildfires evacuation or...       1  \n",
       "4     Just got sent this photo from Ruby #Alaska as ...       1  \n",
       "...                                                 ...     ...  \n",
       "7608  Two giant cranes holding a bridge collapse int...       1  \n",
       "7609  @aria_ahrary @TheTawniest The out of control w...       1  \n",
       "7610  M1.94 [01:04 UTC]?5km S of Volcano Hawaii. htt...       1  \n",
       "7611  Police investigating after an e-bike collided ...       1  \n",
       "7612  The Latest: More Homes Razed by Northern Calif...       1  \n",
       "\n",
       "[7613 rows x 5 columns]"
      ]
     },
     "execution_count": 19,
     "metadata": {},
     "output_type": "execute_result"
    }
   ],
   "source": [
    "# Get more info on train_data\n",
    "print(train_data.columns)\n",
    "train_data"
   ]
  },
  {
   "cell_type": "code",
   "execution_count": 20,
   "id": "b000c17f",
   "metadata": {
    "execution": {
     "iopub.execute_input": "2025-06-22T07:50:25.316973Z",
     "iopub.status.busy": "2025-06-22T07:50:25.316569Z",
     "iopub.status.idle": "2025-06-22T07:50:25.321994Z",
     "shell.execute_reply": "2025-06-22T07:50:25.321235Z"
    },
    "papermill": {
     "duration": 0.016134,
     "end_time": "2025-06-22T07:50:25.323091",
     "exception": false,
     "start_time": "2025-06-22T07:50:25.306957",
     "status": "completed"
    },
    "tags": []
   },
   "outputs": [
    {
     "data": {
      "text/plain": [
       "61"
      ]
     },
     "execution_count": 20,
     "metadata": {},
     "output_type": "execute_result"
    }
   ],
   "source": [
    "len(train_data[train_data['keyword'].isna()])"
   ]
  },
  {
   "cell_type": "code",
   "execution_count": 21,
   "id": "91d672c2",
   "metadata": {
    "execution": {
     "iopub.execute_input": "2025-06-22T07:50:25.342732Z",
     "iopub.status.busy": "2025-06-22T07:50:25.342182Z",
     "iopub.status.idle": "2025-06-22T07:50:25.348052Z",
     "shell.execute_reply": "2025-06-22T07:50:25.347406Z"
    },
    "papermill": {
     "duration": 0.016771,
     "end_time": "2025-06-22T07:50:25.349101",
     "exception": false,
     "start_time": "2025-06-22T07:50:25.332330",
     "status": "completed"
    },
    "tags": []
   },
   "outputs": [
    {
     "data": {
      "text/plain": [
       "2533"
      ]
     },
     "execution_count": 21,
     "metadata": {},
     "output_type": "execute_result"
    }
   ],
   "source": [
    "len(train_data[train_data['location'].isnull() | train_data['location'].isna()])"
   ]
  },
  {
   "cell_type": "code",
   "execution_count": 22,
   "id": "c1da4636",
   "metadata": {
    "execution": {
     "iopub.execute_input": "2025-06-22T07:50:25.368988Z",
     "iopub.status.busy": "2025-06-22T07:50:25.368576Z",
     "iopub.status.idle": "2025-06-22T07:50:25.376350Z",
     "shell.execute_reply": "2025-06-22T07:50:25.375732Z"
    },
    "papermill": {
     "duration": 0.018573,
     "end_time": "2025-06-22T07:50:25.377319",
     "exception": false,
     "start_time": "2025-06-22T07:50:25.358746",
     "status": "completed"
    },
    "tags": []
   },
   "outputs": [
    {
     "data": {
      "text/html": [
       "<div>\n",
       "<style scoped>\n",
       "    .dataframe tbody tr th:only-of-type {\n",
       "        vertical-align: middle;\n",
       "    }\n",
       "\n",
       "    .dataframe tbody tr th {\n",
       "        vertical-align: top;\n",
       "    }\n",
       "\n",
       "    .dataframe thead th {\n",
       "        text-align: right;\n",
       "    }\n",
       "</style>\n",
       "<table border=\"1\" class=\"dataframe\">\n",
       "  <thead>\n",
       "    <tr style=\"text-align: right;\">\n",
       "      <th></th>\n",
       "      <th>keyword</th>\n",
       "      <th>text</th>\n",
       "      <th>target</th>\n",
       "    </tr>\n",
       "  </thead>\n",
       "  <tbody>\n",
       "    <tr>\n",
       "      <th>0</th>\n",
       "      <td>NaN</td>\n",
       "      <td>Our Deeds are the Reason of this #earthquake M...</td>\n",
       "      <td>1</td>\n",
       "    </tr>\n",
       "    <tr>\n",
       "      <th>1</th>\n",
       "      <td>NaN</td>\n",
       "      <td>Forest fire near La Ronge Sask. Canada</td>\n",
       "      <td>1</td>\n",
       "    </tr>\n",
       "    <tr>\n",
       "      <th>2</th>\n",
       "      <td>NaN</td>\n",
       "      <td>All residents asked to 'shelter in place' are ...</td>\n",
       "      <td>1</td>\n",
       "    </tr>\n",
       "    <tr>\n",
       "      <th>3</th>\n",
       "      <td>NaN</td>\n",
       "      <td>13,000 people receive #wildfires evacuation or...</td>\n",
       "      <td>1</td>\n",
       "    </tr>\n",
       "    <tr>\n",
       "      <th>4</th>\n",
       "      <td>NaN</td>\n",
       "      <td>Just got sent this photo from Ruby #Alaska as ...</td>\n",
       "      <td>1</td>\n",
       "    </tr>\n",
       "    <tr>\n",
       "      <th>...</th>\n",
       "      <td>...</td>\n",
       "      <td>...</td>\n",
       "      <td>...</td>\n",
       "    </tr>\n",
       "    <tr>\n",
       "      <th>7608</th>\n",
       "      <td>NaN</td>\n",
       "      <td>Two giant cranes holding a bridge collapse int...</td>\n",
       "      <td>1</td>\n",
       "    </tr>\n",
       "    <tr>\n",
       "      <th>7609</th>\n",
       "      <td>NaN</td>\n",
       "      <td>@aria_ahrary @TheTawniest The out of control w...</td>\n",
       "      <td>1</td>\n",
       "    </tr>\n",
       "    <tr>\n",
       "      <th>7610</th>\n",
       "      <td>NaN</td>\n",
       "      <td>M1.94 [01:04 UTC]?5km S of Volcano Hawaii. htt...</td>\n",
       "      <td>1</td>\n",
       "    </tr>\n",
       "    <tr>\n",
       "      <th>7611</th>\n",
       "      <td>NaN</td>\n",
       "      <td>Police investigating after an e-bike collided ...</td>\n",
       "      <td>1</td>\n",
       "    </tr>\n",
       "    <tr>\n",
       "      <th>7612</th>\n",
       "      <td>NaN</td>\n",
       "      <td>The Latest: More Homes Razed by Northern Calif...</td>\n",
       "      <td>1</td>\n",
       "    </tr>\n",
       "  </tbody>\n",
       "</table>\n",
       "<p>7613 rows × 3 columns</p>\n",
       "</div>"
      ],
      "text/plain": [
       "     keyword                                               text  target\n",
       "0        NaN  Our Deeds are the Reason of this #earthquake M...       1\n",
       "1        NaN             Forest fire near La Ronge Sask. Canada       1\n",
       "2        NaN  All residents asked to 'shelter in place' are ...       1\n",
       "3        NaN  13,000 people receive #wildfires evacuation or...       1\n",
       "4        NaN  Just got sent this photo from Ruby #Alaska as ...       1\n",
       "...      ...                                                ...     ...\n",
       "7608     NaN  Two giant cranes holding a bridge collapse int...       1\n",
       "7609     NaN  @aria_ahrary @TheTawniest The out of control w...       1\n",
       "7610     NaN  M1.94 [01:04 UTC]?5km S of Volcano Hawaii. htt...       1\n",
       "7611     NaN  Police investigating after an e-bike collided ...       1\n",
       "7612     NaN  The Latest: More Homes Razed by Northern Calif...       1\n",
       "\n",
       "[7613 rows x 3 columns]"
      ]
     },
     "execution_count": 22,
     "metadata": {},
     "output_type": "execute_result"
    }
   ],
   "source": [
    "# Goal of the project is to match tweets with intended target (disastorous tweet marked 1; 0 otherwise)\n",
    "# Drop the id and location columns from the train_data frame\n",
    "train_data = train_data.loc[:, ['keyword', 'text', 'target']]\n",
    "train_data"
   ]
  },
  {
   "cell_type": "code",
   "execution_count": 23,
   "id": "b390fa62",
   "metadata": {
    "execution": {
     "iopub.execute_input": "2025-06-22T07:50:25.399129Z",
     "iopub.status.busy": "2025-06-22T07:50:25.398790Z",
     "iopub.status.idle": "2025-06-22T07:50:25.404565Z",
     "shell.execute_reply": "2025-06-22T07:50:25.404082Z"
    },
    "papermill": {
     "duration": 0.016807,
     "end_time": "2025-06-22T07:50:25.405566",
     "exception": false,
     "start_time": "2025-06-22T07:50:25.388759",
     "status": "completed"
    },
    "tags": []
   },
   "outputs": [
    {
     "data": {
      "text/plain": [
       "keyword\n",
       "fatalities               45\n",
       "armageddon               42\n",
       "deluge                   42\n",
       "harm                     41\n",
       "damage                   41\n",
       "                         ..\n",
       "forest%20fire            19\n",
       "epicentre                12\n",
       "threat                   11\n",
       "inundation               10\n",
       "radiation%20emergency     9\n",
       "Name: count, Length: 221, dtype: int64"
      ]
     },
     "execution_count": 23,
     "metadata": {},
     "output_type": "execute_result"
    }
   ],
   "source": [
    "train_data['keyword'].value_counts()"
   ]
  },
  {
   "cell_type": "code",
   "execution_count": 24,
   "id": "b5491bf5",
   "metadata": {
    "execution": {
     "iopub.execute_input": "2025-06-22T07:50:25.425392Z",
     "iopub.status.busy": "2025-06-22T07:50:25.425108Z",
     "iopub.status.idle": "2025-06-22T07:50:25.430885Z",
     "shell.execute_reply": "2025-06-22T07:50:25.430351Z"
    },
    "papermill": {
     "duration": 0.016684,
     "end_time": "2025-06-22T07:50:25.431910",
     "exception": false,
     "start_time": "2025-06-22T07:50:25.415226",
     "status": "completed"
    },
    "tags": []
   },
   "outputs": [
    {
     "data": {
      "text/plain": [
       "keyword\n",
       "deluged          23\n",
       "rubble           22\n",
       "demolished       22\n",
       "obliteration     21\n",
       "annihilation     21\n",
       "                 ..\n",
       "fatalities        5\n",
       "threat            5\n",
       "forest%20fire     5\n",
       "inundation        4\n",
       "epicentre         1\n",
       "Name: count, Length: 221, dtype: int64"
      ]
     },
     "execution_count": 24,
     "metadata": {},
     "output_type": "execute_result"
    }
   ],
   "source": [
    "test_data['keyword'].value_counts()"
   ]
  },
  {
   "cell_type": "code",
   "execution_count": 25,
   "id": "bac9fced",
   "metadata": {
    "execution": {
     "iopub.execute_input": "2025-06-22T07:50:25.452294Z",
     "iopub.status.busy": "2025-06-22T07:50:25.451794Z",
     "iopub.status.idle": "2025-06-22T07:50:25.783465Z",
     "shell.execute_reply": "2025-06-22T07:50:25.782889Z"
    },
    "papermill": {
     "duration": 0.343133,
     "end_time": "2025-06-22T07:50:25.784738",
     "exception": false,
     "start_time": "2025-06-22T07:50:25.441605",
     "status": "completed"
    },
    "tags": []
   },
   "outputs": [
    {
     "data": {
      "image/png": "[encoded data removed]",
      "text/plain": [
       "<Figure size 640x480 with 1 Axes>"
      ]
     },
     "metadata": {},
     "output_type": "display_data"
    }
   ],
   "source": [
    "train_data['keyword'].value_counts().head(10).plot.bar()\n",
    "plt.title(\"Top 10 Keywords in Train Tweets\")\n",
    "plt.ylabel(\"Count\")\n",
    "plt.show()"
   ]
  },
  {
   "cell_type": "code",
   "execution_count": 26,
   "id": "e833f344",
   "metadata": {
    "execution": {
     "iopub.execute_input": "2025-06-22T07:50:25.806525Z",
     "iopub.status.busy": "2025-06-22T07:50:25.806110Z",
     "iopub.status.idle": "2025-06-22T07:50:26.022109Z",
     "shell.execute_reply": "2025-06-22T07:50:26.021482Z"
    },
    "papermill": {
     "duration": 0.227725,
     "end_time": "2025-06-22T07:50:26.023210",
     "exception": false,
     "start_time": "2025-06-22T07:50:25.795485",
     "status": "completed"
    },
    "tags": []
   },
   "outputs": [
    {
     "data": {
      "image/png": "[encoded data removed]",
      "text/plain": [
       "<Figure size 640x480 with 1 Axes>"
      ]
     },
     "metadata": {},
     "output_type": "display_data"
    }
   ],
   "source": [
    "train_data['keyword'].value_counts().head(25).plot.bar()\n",
    "plt.title(\"Top 25 Keywords in Train Tweets\")\n",
    "plt.ylabel(\"Count\")\n",
    "plt.show()"
   ]
  },
  {
   "cell_type": "code",
   "execution_count": 27,
   "id": "c86a277f",
   "metadata": {
    "execution": {
     "iopub.execute_input": "2025-06-22T07:50:26.046061Z",
     "iopub.status.busy": "2025-06-22T07:50:26.045587Z",
     "iopub.status.idle": "2025-06-22T07:50:26.197350Z",
     "shell.execute_reply": "2025-06-22T07:50:26.196679Z"
    },
    "papermill": {
     "duration": 0.164326,
     "end_time": "2025-06-22T07:50:26.198569",
     "exception": false,
     "start_time": "2025-06-22T07:50:26.034243",
     "status": "completed"
    },
    "tags": []
   },
   "outputs": [
    {
     "data": {
      "image/png": "[encoded data removed]",
      "text/plain": [
       "<Figure size 640x480 with 1 Axes>"
      ]
     },
     "metadata": {},
     "output_type": "display_data"
    }
   ],
   "source": [
    "# A plot of the test data\n",
    "test_data['keyword'].value_counts().head(10).plot.bar()\n",
    "plt.title(\"Top 10 Keywords in TestTweets\")\n",
    "plt.ylabel(\"Count\")\n",
    "plt.show()"
   ]
  },
  {
   "cell_type": "code",
   "execution_count": 28,
   "id": "135a3a00",
   "metadata": {
    "execution": {
     "iopub.execute_input": "2025-06-22T07:50:26.225306Z",
     "iopub.status.busy": "2025-06-22T07:50:26.224845Z",
     "iopub.status.idle": "2025-06-22T07:50:26.231243Z",
     "shell.execute_reply": "2025-06-22T07:50:26.230662Z"
    },
    "papermill": {
     "duration": 0.020946,
     "end_time": "2025-06-22T07:50:26.232480",
     "exception": false,
     "start_time": "2025-06-22T07:50:26.211534",
     "status": "completed"
    },
    "tags": []
   },
   "outputs": [
    {
     "data": {
      "text/plain": [
       "target\n",
       "0    4342\n",
       "1    3271\n",
       "Name: count, dtype: int64"
      ]
     },
     "execution_count": 28,
     "metadata": {},
     "output_type": "execute_result"
    }
   ],
   "source": [
    "train_data['target'].value_counts()"
   ]
  },
  {
   "cell_type": "code",
   "execution_count": 29,
   "id": "b5990d80",
   "metadata": {
    "execution": {
     "iopub.execute_input": "2025-06-22T07:50:26.258992Z",
     "iopub.status.busy": "2025-06-22T07:50:26.258818Z",
     "iopub.status.idle": "2025-06-22T07:50:26.360929Z",
     "shell.execute_reply": "2025-06-22T07:50:26.360311Z"
    },
    "papermill": {
     "duration": 0.115545,
     "end_time": "2025-06-22T07:50:26.361954",
     "exception": false,
     "start_time": "2025-06-22T07:50:26.246409",
     "status": "completed"
    },
    "tags": []
   },
   "outputs": [
    {
     "data": {
      "image/png": "[encoded data removed]",
      "text/plain": [
       "<Figure size 640x480 with 1 Axes>"
      ]
     },
     "metadata": {},
     "output_type": "display_data"
    }
   ],
   "source": [
    "sns.countplot(train_data, x='target')\n",
    "plt.xlabel(\"Type of Tweet\")\n",
    "plt.ylabel(\"Tweet Count\")\n",
    "plt.title(\"Train Data Tweet Type\")\n",
    "plt.show()"
   ]
  },
  {
   "cell_type": "markdown",
   "id": "9b6aa5a5",
   "metadata": {
    "papermill": {
     "duration": 0.01132,
     "end_time": "2025-06-22T07:50:26.385506",
     "exception": false,
     "start_time": "2025-06-22T07:50:26.374186",
     "status": "completed"
    },
    "tags": []
   },
   "source": [
    "<a id='Data Preparation'></a>\n",
    "# Data Preparation & Preprocessing\n",
    "Some data cleaning will be required because there is more than text that is in the tweets. \n",
    "<br>\n",
    "Prepare the training data before modeling. Install the necessary Keras and TensorFlow libraries to compare and build models to get the results.<br>\n",
    "Also, this is the opportunity for presetting the Keras model and preprocessing the training data."
   ]
  },
  {
   "cell_type": "code",
   "execution_count": 30,
   "id": "97761ec0",
   "metadata": {
    "execution": {
     "iopub.execute_input": "2025-06-22T07:50:26.411036Z",
     "iopub.status.busy": "2025-06-22T07:50:26.410572Z",
     "iopub.status.idle": "2025-06-22T07:50:30.839449Z",
     "shell.execute_reply": "2025-06-22T07:50:30.838678Z"
    },
    "papermill": {
     "duration": 4.44245,
     "end_time": "2025-06-22T07:50:30.840971",
     "exception": false,
     "start_time": "2025-06-22T07:50:26.398521",
     "status": "completed"
    },
    "tags": []
   },
   "outputs": [
    {
     "name": "stdout",
     "output_type": "stream",
     "text": [
      "Collecting contractions\r\n",
      "  Downloading contractions-0.1.73-py2.py3-none-any.whl.metadata (1.2 kB)\r\n",
      "Collecting textsearch>=0.0.21 (from contractions)\r\n",
      "  Downloading textsearch-0.0.24-py2.py3-none-any.whl.metadata (1.2 kB)\r\n",
      "Collecting anyascii (from textsearch>=0.0.21->contractions)\r\n",
      "  Downloading anyascii-0.3.2-py3-none-any.whl.metadata (1.5 kB)\r\n",
      "Collecting pyahocorasick (from textsearch>=0.0.21->contractions)\r\n",
      "  Downloading pyahocorasick-2.2.0-cp311-cp311-manylinux_2_17_x86_64.manylinux2014_x86_64.whl.metadata (13 kB)\r\n",
      "Downloading contractions-0.1.73-py2.py3-none-any.whl (8.7 kB)\r\n",
      "Downloading textsearch-0.0.24-py2.py3-none-any.whl (7.6 kB)\r\n",
      "Downloading anyascii-0.3.2-py3-none-any.whl (289 kB)\r\n",
      "\u001b[2K   \u001b[90m━━━━━━━━━━━━━━━━━━━━━━━━━━━━━━━━━━━━━━━━\u001b[0m \u001b[32m289.9/289.9 kB\u001b[0m \u001b[31m6.4 MB/s\u001b[0m eta \u001b[36m0:00:00\u001b[0m\r\n",
      "\u001b[?25hDownloading pyahocorasick-2.2.0-cp311-cp311-manylinux_2_17_x86_64.manylinux2014_x86_64.whl (113 kB)\r\n",
      "\u001b[2K   \u001b[90m━━━━━━━━━━━━━━━━━━━━━━━━━━━━━━━━━━━━━━━━\u001b[0m \u001b[32m113.9/113.9 kB\u001b[0m \u001b[31m10.7 MB/s\u001b[0m eta \u001b[36m0:00:00\u001b[0m\r\n",
      "\u001b[?25hInstalling collected packages: pyahocorasick, anyascii, textsearch, contractions\r\n",
      "Successfully installed anyascii-0.3.2 contractions-0.1.73 pyahocorasick-2.2.0 textsearch-0.0.24\r\n"
     ]
    }
   ],
   "source": [
    "# Text cleaning is required since there are mentions, retweets, URLs, emojis, etc. that could be in the tweets. Remove these.\n",
    "# These are the libraries for text modifications\n",
    "import re\n",
    "import emoji\n",
    "!pip install contractions\n",
    "import contractions\n",
    "import html\n",
    "\n",
    "# Create function to clean up the tweets to be plain text\n",
    "# Get rid of additional characters or symbols\n",
    "# Credit belongs to https://www.kaggle.com/code/muhammadfaseeh/kerasnlp-starter-notebook-disaster-tweets\n",
    "def get_clean_tweets(text):\n",
    "    \n",
    "    # Rid the tweets of any extra spaces leading or following the first or last word\n",
    "    text = text.strip()\n",
    "    \n",
    "    # Convert HTML entities\n",
    "    text = html.unescape(text)\n",
    "    \n",
    "    # Fix corrupted Unicode artifacts\n",
    "    text = text.replace(\"‰ÛÏ\", '\"').replace(\"‰Û\", '\"')  # Fix double quotes\n",
    "    text = text.replace(\"‰Û÷\", \"'\").replace(\"‰Ûª\", \"'\")  # Fix single quotes\n",
    "    text = text.replace(\"‰Û¢\", \"-\").replace(\"‰Û_\", \"-\")  # Fix hyphen issues\n",
    "    \n",
    "    # Remove any remaining corrupted symbols\n",
    "    text = re.sub(r\"[^\\x00-\\x7F]+\", \"\", text)  # Remove remaining non-ASCII characters\n",
    "    \n",
    "    # Remove URLs that start with 'https://...' or any links\n",
    "    text = re.sub(r'http\\S+', '', text)\n",
    "    \n",
    "    # Remove mentions (@username)\n",
    "    text = re.sub(r'@\\w+', '', text)\n",
    "    \n",
    "    # Remove any emojis - had no idea that there was a library that could get this done\n",
    "    text = emoji.demojize(text, delimiters=(\" \", \" \"))  \n",
    "    \n",
    "    # Expand contractions\n",
    "    text = contractions.fix(text)\n",
    "\n",
    "    return text\n"
   ]
  },
  {
   "cell_type": "code",
   "execution_count": 31,
   "id": "b2ca356b",
   "metadata": {
    "execution": {
     "iopub.execute_input": "2025-06-22T07:50:30.869733Z",
     "iopub.status.busy": "2025-06-22T07:50:30.869493Z",
     "iopub.status.idle": "2025-06-22T07:50:31.596518Z",
     "shell.execute_reply": "2025-06-22T07:50:31.595911Z"
    },
    "papermill": {
     "duration": 0.742017,
     "end_time": "2025-06-22T07:50:31.597684",
     "exception": false,
     "start_time": "2025-06-22T07:50:30.855667",
     "status": "completed"
    },
    "tags": []
   },
   "outputs": [],
   "source": [
    "# Apply to both train and test tweets columns in datasets\n",
    "train_data['text'] = train_data['text'].apply(get_clean_tweets)\n",
    "test_data['text'] = test_data['text'].apply(get_clean_tweets)"
   ]
  },
  {
   "cell_type": "code",
   "execution_count": 32,
   "id": "710ec051",
   "metadata": {
    "execution": {
     "iopub.execute_input": "2025-06-22T07:50:31.623069Z",
     "iopub.status.busy": "2025-06-22T07:50:31.622390Z",
     "iopub.status.idle": "2025-06-22T07:50:31.628959Z",
     "shell.execute_reply": "2025-06-22T07:50:31.628411Z"
    },
    "papermill": {
     "duration": 0.020046,
     "end_time": "2025-06-22T07:50:31.630001",
     "exception": false,
     "start_time": "2025-06-22T07:50:31.609955",
     "status": "completed"
    },
    "tags": []
   },
   "outputs": [
    {
     "data": {
      "text/plain": [
       "0       Our Deeds are the Reason of this #earthquake M...\n",
       "1                  Forest fire near La Ronge Sask. Canada\n",
       "2       All residents asked to 'shelter in place' are ...\n",
       "3       13,000 people receive #wildfires evacuation or...\n",
       "4       Just got sent this photo from Ruby #Alaska as ...\n",
       "                              ...                        \n",
       "7608    Two giant cranes holding a bridge collapse int...\n",
       "7609      The out of control wild fires in California ...\n",
       "7610          M1.94 [01:04 UTC]?5km S of Volcano Hawaii. \n",
       "7611    Police investigating after an e-bike collided ...\n",
       "7612    The Latest: More Homes Razed by Northern Calif...\n",
       "Name: text, Length: 7613, dtype: object"
      ]
     },
     "execution_count": 32,
     "metadata": {},
     "output_type": "execute_result"
    }
   ],
   "source": [
    "train_data['text']"
   ]
  },
  {
   "cell_type": "code",
   "execution_count": 33,
   "id": "82e2f4f5",
   "metadata": {
    "execution": {
     "iopub.execute_input": "2025-06-22T07:50:31.654672Z",
     "iopub.status.busy": "2025-06-22T07:50:31.654439Z",
     "iopub.status.idle": "2025-06-22T07:50:31.659610Z",
     "shell.execute_reply": "2025-06-22T07:50:31.658911Z"
    },
    "papermill": {
     "duration": 0.018822,
     "end_time": "2025-06-22T07:50:31.660784",
     "exception": false,
     "start_time": "2025-06-22T07:50:31.641962",
     "status": "completed"
    },
    "tags": []
   },
   "outputs": [
    {
     "data": {
      "text/plain": [
       "0                      Just happened a terrible car crash\n",
       "1       Heard about #earthquake is different cities, s...\n",
       "2       there is a forest fire at spot pond, geese are...\n",
       "3                Apocalypse lighting. #Spokane #wildfires\n",
       "4           Typhoon Soudelor kills 28 in China and Taiwan\n",
       "                              ...                        \n",
       "3258    EARTHQUAKE SAFETY LOS ANGELES  SAFETY FASTENER...\n",
       "3259    Storm in RI worse than last hurricane. My city...\n",
       "3260                    Green Line derailment in Chicago \n",
       "3261          MEG issues Hazardous Weather Outlook (HWO) \n",
       "3262    #CityofCalgary has activated its Municipal Eme...\n",
       "Name: text, Length: 3263, dtype: object"
      ]
     },
     "execution_count": 33,
     "metadata": {},
     "output_type": "execute_result"
    }
   ],
   "source": [
    "test_data['text']"
   ]
  },
  {
   "cell_type": "code",
   "execution_count": 34,
   "id": "ab3688fe",
   "metadata": {
    "execution": {
     "iopub.execute_input": "2025-06-22T07:50:31.685835Z",
     "iopub.status.busy": "2025-06-22T07:50:31.685636Z",
     "iopub.status.idle": "2025-06-22T07:50:45.759544Z",
     "shell.execute_reply": "2025-06-22T07:50:45.758999Z"
    },
    "papermill": {
     "duration": 14.087981,
     "end_time": "2025-06-22T07:50:45.760899",
     "exception": false,
     "start_time": "2025-06-22T07:50:31.672918",
     "status": "completed"
    },
    "tags": []
   },
   "outputs": [
    {
     "name": "stderr",
     "output_type": "stream",
     "text": [
      "2025-06-22 07:50:33.180094: E external/local_xla/xla/stream_executor/cuda/cuda_fft.cc:477] Unable to register cuFFT factory: Attempting to register factory for plugin cuFFT when one has already been registered\n",
      "WARNING: All log messages before absl::InitializeLog() is called are written to STDERR\n",
      "E0000 00:00:1750578633.376499      19 cuda_dnn.cc:8310] Unable to register cuDNN factory: Attempting to register factory for plugin cuDNN when one has already been registered\n",
      "E0000 00:00:1750578633.432665      19 cuda_blas.cc:1418] Unable to register cuBLAS factory: Attempting to register factory for plugin cuBLAS when one has already been registered\n"
     ]
    }
   ],
   "source": [
    "# Import the appropriate libraries to split up the training data\n",
    "import tensorflow as tf\n",
    "import keras\n",
    "import keras_nlp\n",
    "from keras import layers\n",
    "from keras.layers import TextVectorization\n",
    "from keras.models import Sequential\n",
    "from sklearn.model_selection import train_test_split\n",
    "from sklearn.metrics import ConfusionMatrixDisplay, confusion_matrix"
   ]
  },
  {
   "cell_type": "code",
   "execution_count": 35,
   "id": "43aaf724",
   "metadata": {
    "execution": {
     "iopub.execute_input": "2025-06-22T07:50:45.794146Z",
     "iopub.status.busy": "2025-06-22T07:50:45.793674Z",
     "iopub.status.idle": "2025-06-22T07:50:45.797590Z",
     "shell.execute_reply": "2025-06-22T07:50:45.796852Z"
    },
    "papermill": {
     "duration": 0.018672,
     "end_time": "2025-06-22T07:50:45.798798",
     "exception": false,
     "start_time": "2025-06-22T07:50:45.780126",
     "status": "completed"
    },
    "tags": []
   },
   "outputs": [
    {
     "name": "stdout",
     "output_type": "stream",
     "text": [
      "2.18.0 3.8.0 0.18.1\n"
     ]
    }
   ],
   "source": [
    "# Get tensorflow, keras, keras_nlp versions\n",
    "print(tf.__version__,\n",
    "keras.__version__,\n",
    "keras_nlp.__version__)"
   ]
  },
  {
   "cell_type": "code",
   "execution_count": 36,
   "id": "fc23caf3",
   "metadata": {
    "execution": {
     "iopub.execute_input": "2025-06-22T07:50:45.825180Z",
     "iopub.status.busy": "2025-06-22T07:50:45.825000Z",
     "iopub.status.idle": "2025-06-22T07:50:45.828754Z",
     "shell.execute_reply": "2025-06-22T07:50:45.827978Z"
    },
    "papermill": {
     "duration": 0.018566,
     "end_time": "2025-06-22T07:50:45.829822",
     "exception": false,
     "start_time": "2025-06-22T07:50:45.811256",
     "status": "completed"
    },
    "tags": []
   },
   "outputs": [],
   "source": [
    "# Set batch size and get the text column for x; target column for y\n",
    "BATCH_SIZE = 16\n",
    "RANDOM_STATE = 101\n",
    "\n",
    "x = train_data['text']\n",
    "y = train_data['target']"
   ]
  },
  {
   "cell_type": "code",
   "execution_count": 37,
   "id": "1ebb91ef",
   "metadata": {
    "execution": {
     "iopub.execute_input": "2025-06-22T07:50:45.856247Z",
     "iopub.status.busy": "2025-06-22T07:50:45.856030Z",
     "iopub.status.idle": "2025-06-22T07:50:45.859841Z",
     "shell.execute_reply": "2025-06-22T07:50:45.859179Z"
    },
    "papermill": {
     "duration": 0.018077,
     "end_time": "2025-06-22T07:50:45.860962",
     "exception": false,
     "start_time": "2025-06-22T07:50:45.842885",
     "status": "completed"
    },
    "tags": []
   },
   "outputs": [
    {
     "name": "stdout",
     "output_type": "stream",
     "text": [
      "<class 'pandas.core.series.Series'> <class 'pandas.core.series.Series'> 7613 7613\n"
     ]
    }
   ],
   "source": [
    "print(type(x), type(y), len(x), len(y))"
   ]
  },
  {
   "cell_type": "code",
   "execution_count": 38,
   "id": "81926a2a",
   "metadata": {
    "execution": {
     "iopub.execute_input": "2025-06-22T07:50:45.887918Z",
     "iopub.status.busy": "2025-06-22T07:50:45.887693Z",
     "iopub.status.idle": "2025-06-22T07:50:45.894166Z",
     "shell.execute_reply": "2025-06-22T07:50:45.893669Z"
    },
    "papermill": {
     "duration": 0.021204,
     "end_time": "2025-06-22T07:50:45.895195",
     "exception": false,
     "start_time": "2025-06-22T07:50:45.873991",
     "status": "completed"
    },
    "tags": []
   },
   "outputs": [],
   "source": [
    "# Split up the data into train and validation sets\n",
    "x_train, x_valid, y_train, y_valid = train_test_split(x, y, test_size=0.2, random_state=RANDOM_STATE)\n",
    "\n",
    "x_test = test_data['text']"
   ]
  },
  {
   "cell_type": "code",
   "execution_count": 39,
   "id": "2e2c8180",
   "metadata": {
    "execution": {
     "iopub.execute_input": "2025-06-22T07:50:45.921981Z",
     "iopub.status.busy": "2025-06-22T07:50:45.921751Z",
     "iopub.status.idle": "2025-06-22T07:50:45.925897Z",
     "shell.execute_reply": "2025-06-22T07:50:45.925345Z"
    },
    "papermill": {
     "duration": 0.018763,
     "end_time": "2025-06-22T07:50:45.927034",
     "exception": false,
     "start_time": "2025-06-22T07:50:45.908271",
     "status": "completed"
    },
    "tags": []
   },
   "outputs": [
    {
     "data": {
      "text/plain": [
       "(7613, 7613)"
      ]
     },
     "execution_count": 39,
     "metadata": {},
     "output_type": "execute_result"
    }
   ],
   "source": [
    "len(x), len(y)"
   ]
  },
  {
   "cell_type": "code",
   "execution_count": 40,
   "id": "52cb2639",
   "metadata": {
    "execution": {
     "iopub.execute_input": "2025-06-22T07:50:45.955947Z",
     "iopub.status.busy": "2025-06-22T07:50:45.955738Z",
     "iopub.status.idle": "2025-06-22T07:50:45.959245Z",
     "shell.execute_reply": "2025-06-22T07:50:45.958507Z"
    },
    "papermill": {
     "duration": 0.017877,
     "end_time": "2025-06-22T07:50:45.960285",
     "exception": false,
     "start_time": "2025-06-22T07:50:45.942408",
     "status": "completed"
    },
    "tags": []
   },
   "outputs": [
    {
     "name": "stdout",
     "output_type": "stream",
     "text": [
      "6090 6090 1523 1523\n"
     ]
    }
   ],
   "source": [
    "print(len(x_train), len(y_train), len(x_valid), len(y_valid))"
   ]
  },
  {
   "cell_type": "code",
   "execution_count": 41,
   "id": "4e20fa39",
   "metadata": {
    "execution": {
     "iopub.execute_input": "2025-06-22T07:50:45.985539Z",
     "iopub.status.busy": "2025-06-22T07:50:45.985347Z",
     "iopub.status.idle": "2025-06-22T07:50:45.989158Z",
     "shell.execute_reply": "2025-06-22T07:50:45.988434Z"
    },
    "papermill": {
     "duration": 0.017674,
     "end_time": "2025-06-22T07:50:45.990280",
     "exception": false,
     "start_time": "2025-06-22T07:50:45.972606",
     "status": "completed"
    },
    "tags": []
   },
   "outputs": [
    {
     "name": "stdout",
     "output_type": "stream",
     "text": [
      "<class 'pandas.core.series.Series'> <class 'pandas.core.series.Series'> <class 'pandas.core.series.Series'> <class 'pandas.core.series.Series'> <class 'pandas.core.series.Series'>\n"
     ]
    }
   ],
   "source": [
    "print(type(x_train), type(x_valid), type(y_train), type(y_valid), type(x_test))"
   ]
  },
  {
   "cell_type": "code",
   "execution_count": 42,
   "id": "e1539d8d",
   "metadata": {
    "execution": {
     "iopub.execute_input": "2025-06-22T07:50:46.015996Z",
     "iopub.status.busy": "2025-06-22T07:50:46.015820Z",
     "iopub.status.idle": "2025-06-22T07:50:46.019685Z",
     "shell.execute_reply": "2025-06-22T07:50:46.019014Z"
    },
    "papermill": {
     "duration": 0.017994,
     "end_time": "2025-06-22T07:50:46.020693",
     "exception": false,
     "start_time": "2025-06-22T07:50:46.002699",
     "status": "completed"
    },
    "tags": []
   },
   "outputs": [
    {
     "data": {
      "text/plain": [
       "(6090,)"
      ]
     },
     "execution_count": 42,
     "metadata": {},
     "output_type": "execute_result"
    }
   ],
   "source": [
    "x_train.shape"
   ]
  },
  {
   "cell_type": "markdown",
   "id": "18096147",
   "metadata": {
    "papermill": {
     "duration": 0.012149,
     "end_time": "2025-06-22T07:50:46.045240",
     "exception": false,
     "start_time": "2025-06-22T07:50:46.033091",
     "status": "completed"
    },
    "tags": []
   },
   "source": [
    "<a id='Model'></a>\n",
    "# Training the Model\n",
    "\n",
    "Now, time to train the model. <br>\n",
    "Re-compile the data, optimize the model, and then fit the data into the model. "
   ]
  },
  {
   "cell_type": "code",
   "execution_count": 43,
   "id": "8db967f9",
   "metadata": {
    "execution": {
     "iopub.execute_input": "2025-06-22T07:50:46.070596Z",
     "iopub.status.busy": "2025-06-22T07:50:46.070429Z",
     "iopub.status.idle": "2025-06-22T07:50:53.478708Z",
     "shell.execute_reply": "2025-06-22T07:50:53.477988Z"
    },
    "papermill": {
     "duration": 7.422256,
     "end_time": "2025-06-22T07:50:53.479792",
     "exception": false,
     "start_time": "2025-06-22T07:50:46.057536",
     "status": "completed"
    },
    "tags": []
   },
   "outputs": [
    {
     "name": "stderr",
     "output_type": "stream",
     "text": [
      "I0000 00:00:1750578648.944448      19 gpu_device.cc:2022] Created device /job:localhost/replica:0/task:0/device:GPU:0 with 13942 MB memory:  -> device: 0, name: Tesla T4, pci bus id: 0000:00:04.0, compute capability: 7.5\n",
      "I0000 00:00:1750578648.945142      19 gpu_device.cc:2022] Created device /job:localhost/replica:0/task:0/device:GPU:1 with 13942 MB memory:  -> device: 1, name: Tesla T4, pci bus id: 0000:00:05.0, compute capability: 7.5\n"
     ]
    },
    {
     "data": {
      "text/html": [
       "<pre style=\"white-space:pre;overflow-x:auto;line-height:normal;font-family:Menlo,'DejaVu Sans Mono',consolas,'Courier New',monospace\"><span style=\"font-weight: bold\">Preprocessor: \"preprocessor_4_tweets\"</span>\n",
       "</pre>\n"
      ],
      "text/plain": [
       "\u001b[1mPreprocessor: \"preprocessor_4_tweets\"\u001b[0m\n"
      ]
     },
     "metadata": {},
     "output_type": "display_data"
    },
    {
     "data": {
      "text/html": [
       "<pre style=\"white-space:pre;overflow-x:auto;line-height:normal;font-family:Menlo,'DejaVu Sans Mono',consolas,'Courier New',monospace\">┏━━━━━━━━━━━━━━━━━━━━━━━━━━━━━━━━━━━━━━━━━━━━━━━━━━━━━━━━━━━━━━━┳━━━━━━━━━━━━━━━━━━━━━━━━━━━━━━━━━━━━━━━━━━┓\n",
       "┃<span style=\"font-weight: bold\"> Layer (type)                                                  </span>┃<span style=\"font-weight: bold\">                                   Config </span>┃\n",
       "┡━━━━━━━━━━━━━━━━━━━━━━━━━━━━━━━━━━━━━━━━━━━━━━━━━━━━━━━━━━━━━━━╇━━━━━━━━━━━━━━━━━━━━━━━━━━━━━━━━━━━━━━━━━━┩\n",
       "│ distil_bert_tokenizer (<span style=\"color: #0087ff; text-decoration-color: #0087ff\">DistilBertTokenizer</span>)                   │                       Vocab size: <span style=\"color: #00af00; text-decoration-color: #00af00\">30,522</span> │\n",
       "└───────────────────────────────────────────────────────────────┴──────────────────────────────────────────┘\n",
       "</pre>\n"
      ],
      "text/plain": [
       "┏━━━━━━━━━━━━━━━━━━━━━━━━━━━━━━━━━━━━━━━━━━━━━━━━━━━━━━━━━━━━━━━┳━━━━━━━━━━━━━━━━━━━━━━━━━━━━━━━━━━━━━━━━━━┓\n",
       "┃\u001b[1m \u001b[0m\u001b[1mLayer (type)                                                 \u001b[0m\u001b[1m \u001b[0m┃\u001b[1m \u001b[0m\u001b[1m                                  Config\u001b[0m\u001b[1m \u001b[0m┃\n",
       "┡━━━━━━━━━━━━━━━━━━━━━━━━━━━━━━━━━━━━━━━━━━━━━━━━━━━━━━━━━━━━━━━╇━━━━━━━━━━━━━━━━━━━━━━━━━━━━━━━━━━━━━━━━━━┩\n",
       "│ distil_bert_tokenizer (\u001b[38;5;33mDistilBertTokenizer\u001b[0m)                   │                       Vocab size: \u001b[38;5;34m30,522\u001b[0m │\n",
       "└───────────────────────────────────────────────────────────────┴──────────────────────────────────────────┘\n"
      ]
     },
     "metadata": {},
     "output_type": "display_data"
    },
    {
     "data": {
      "text/html": [
       "<pre style=\"white-space:pre;overflow-x:auto;line-height:normal;font-family:Menlo,'DejaVu Sans Mono',consolas,'Courier New',monospace\"><span style=\"font-weight: bold\">Model: \"distil_bert_text_classifier\"</span>\n",
       "</pre>\n"
      ],
      "text/plain": [
       "\u001b[1mModel: \"distil_bert_text_classifier\"\u001b[0m\n"
      ]
     },
     "metadata": {},
     "output_type": "display_data"
    },
    {
     "data": {
      "text/html": [
       "<pre style=\"white-space:pre;overflow-x:auto;line-height:normal;font-family:Menlo,'DejaVu Sans Mono',consolas,'Courier New',monospace\">┏━━━━━━━━━━━━━━━━━━━━━━━━━━━━━━━┳━━━━━━━━━━━━━━━━━━━━━━━━━━━┳━━━━━━━━━━━━━━━━━┳━━━━━━━━━━━━━━━━━━━━━━━━━━━━┓\n",
       "┃<span style=\"font-weight: bold\"> Layer (type)                  </span>┃<span style=\"font-weight: bold\"> Output Shape              </span>┃<span style=\"font-weight: bold\">         Param # </span>┃<span style=\"font-weight: bold\"> Connected to               </span>┃\n",
       "┡━━━━━━━━━━━━━━━━━━━━━━━━━━━━━━━╇━━━━━━━━━━━━━━━━━━━━━━━━━━━╇━━━━━━━━━━━━━━━━━╇━━━━━━━━━━━━━━━━━━━━━━━━━━━━┩\n",
       "│ padding_mask (<span style=\"color: #0087ff; text-decoration-color: #0087ff\">InputLayer</span>)     │ (<span style=\"color: #00d7ff; text-decoration-color: #00d7ff\">None</span>, <span style=\"color: #00d7ff; text-decoration-color: #00d7ff\">None</span>)              │               <span style=\"color: #00af00; text-decoration-color: #00af00\">0</span> │ -                          │\n",
       "├───────────────────────────────┼───────────────────────────┼─────────────────┼────────────────────────────┤\n",
       "│ token_ids (<span style=\"color: #0087ff; text-decoration-color: #0087ff\">InputLayer</span>)        │ (<span style=\"color: #00d7ff; text-decoration-color: #00d7ff\">None</span>, <span style=\"color: #00d7ff; text-decoration-color: #00d7ff\">None</span>)              │               <span style=\"color: #00af00; text-decoration-color: #00af00\">0</span> │ -                          │\n",
       "├───────────────────────────────┼───────────────────────────┼─────────────────┼────────────────────────────┤\n",
       "│ distil_bert_backbone          │ (<span style=\"color: #00d7ff; text-decoration-color: #00d7ff\">None</span>, <span style=\"color: #00d7ff; text-decoration-color: #00d7ff\">None</span>, <span style=\"color: #00af00; text-decoration-color: #00af00\">768</span>)         │      <span style=\"color: #00af00; text-decoration-color: #00af00\">66,362,880</span> │ padding_mask[<span style=\"color: #00af00; text-decoration-color: #00af00\">0</span>][<span style=\"color: #00af00; text-decoration-color: #00af00\">0</span>],        │\n",
       "│ (<span style=\"color: #0087ff; text-decoration-color: #0087ff\">DistilBertBackbone</span>)          │                           │                 │ token_ids[<span style=\"color: #00af00; text-decoration-color: #00af00\">0</span>][<span style=\"color: #00af00; text-decoration-color: #00af00\">0</span>]            │\n",
       "├───────────────────────────────┼───────────────────────────┼─────────────────┼────────────────────────────┤\n",
       "│ get_item (<span style=\"color: #0087ff; text-decoration-color: #0087ff\">GetItem</span>)            │ (<span style=\"color: #00d7ff; text-decoration-color: #00d7ff\">None</span>, <span style=\"color: #00af00; text-decoration-color: #00af00\">768</span>)               │               <span style=\"color: #00af00; text-decoration-color: #00af00\">0</span> │ distil_bert_backbone[<span style=\"color: #00af00; text-decoration-color: #00af00\">0</span>][<span style=\"color: #00af00; text-decoration-color: #00af00\">0</span>] │\n",
       "├───────────────────────────────┼───────────────────────────┼─────────────────┼────────────────────────────┤\n",
       "│ pooled_dense (<span style=\"color: #0087ff; text-decoration-color: #0087ff\">Dense</span>)          │ (<span style=\"color: #00d7ff; text-decoration-color: #00d7ff\">None</span>, <span style=\"color: #00af00; text-decoration-color: #00af00\">768</span>)               │         <span style=\"color: #00af00; text-decoration-color: #00af00\">590,592</span> │ get_item[<span style=\"color: #00af00; text-decoration-color: #00af00\">0</span>][<span style=\"color: #00af00; text-decoration-color: #00af00\">0</span>]             │\n",
       "├───────────────────────────────┼───────────────────────────┼─────────────────┼────────────────────────────┤\n",
       "│ output_dropout (<span style=\"color: #0087ff; text-decoration-color: #0087ff\">Dropout</span>)      │ (<span style=\"color: #00d7ff; text-decoration-color: #00d7ff\">None</span>, <span style=\"color: #00af00; text-decoration-color: #00af00\">768</span>)               │               <span style=\"color: #00af00; text-decoration-color: #00af00\">0</span> │ pooled_dense[<span style=\"color: #00af00; text-decoration-color: #00af00\">0</span>][<span style=\"color: #00af00; text-decoration-color: #00af00\">0</span>]         │\n",
       "├───────────────────────────────┼───────────────────────────┼─────────────────┼────────────────────────────┤\n",
       "│ logits (<span style=\"color: #0087ff; text-decoration-color: #0087ff\">Dense</span>)                │ (<span style=\"color: #00d7ff; text-decoration-color: #00d7ff\">None</span>, <span style=\"color: #00af00; text-decoration-color: #00af00\">2</span>)                 │           <span style=\"color: #00af00; text-decoration-color: #00af00\">1,538</span> │ output_dropout[<span style=\"color: #00af00; text-decoration-color: #00af00\">0</span>][<span style=\"color: #00af00; text-decoration-color: #00af00\">0</span>]       │\n",
       "└───────────────────────────────┴───────────────────────────┴─────────────────┴────────────────────────────┘\n",
       "</pre>\n"
      ],
      "text/plain": [
       "┏━━━━━━━━━━━━━━━━━━━━━━━━━━━━━━━┳━━━━━━━━━━━━━━━━━━━━━━━━━━━┳━━━━━━━━━━━━━━━━━┳━━━━━━━━━━━━━━━━━━━━━━━━━━━━┓\n",
       "┃\u001b[1m \u001b[0m\u001b[1mLayer (type)                 \u001b[0m\u001b[1m \u001b[0m┃\u001b[1m \u001b[0m\u001b[1mOutput Shape             \u001b[0m\u001b[1m \u001b[0m┃\u001b[1m \u001b[0m\u001b[1m        Param #\u001b[0m\u001b[1m \u001b[0m┃\u001b[1m \u001b[0m\u001b[1mConnected to              \u001b[0m\u001b[1m \u001b[0m┃\n",
       "┡━━━━━━━━━━━━━━━━━━━━━━━━━━━━━━━╇━━━━━━━━━━━━━━━━━━━━━━━━━━━╇━━━━━━━━━━━━━━━━━╇━━━━━━━━━━━━━━━━━━━━━━━━━━━━┩\n",
       "│ padding_mask (\u001b[38;5;33mInputLayer\u001b[0m)     │ (\u001b[38;5;45mNone\u001b[0m, \u001b[38;5;45mNone\u001b[0m)              │               \u001b[38;5;34m0\u001b[0m │ -                          │\n",
       "├───────────────────────────────┼───────────────────────────┼─────────────────┼────────────────────────────┤\n",
       "│ token_ids (\u001b[38;5;33mInputLayer\u001b[0m)        │ (\u001b[38;5;45mNone\u001b[0m, \u001b[38;5;45mNone\u001b[0m)              │               \u001b[38;5;34m0\u001b[0m │ -                          │\n",
       "├───────────────────────────────┼───────────────────────────┼─────────────────┼────────────────────────────┤\n",
       "│ distil_bert_backbone          │ (\u001b[38;5;45mNone\u001b[0m, \u001b[38;5;45mNone\u001b[0m, \u001b[38;5;34m768\u001b[0m)         │      \u001b[38;5;34m66,362,880\u001b[0m │ padding_mask[\u001b[38;5;34m0\u001b[0m][\u001b[38;5;34m0\u001b[0m],        │\n",
       "│ (\u001b[38;5;33mDistilBertBackbone\u001b[0m)          │                           │                 │ token_ids[\u001b[38;5;34m0\u001b[0m][\u001b[38;5;34m0\u001b[0m]            │\n",
       "├───────────────────────────────┼───────────────────────────┼─────────────────┼────────────────────────────┤\n",
       "│ get_item (\u001b[38;5;33mGetItem\u001b[0m)            │ (\u001b[38;5;45mNone\u001b[0m, \u001b[38;5;34m768\u001b[0m)               │               \u001b[38;5;34m0\u001b[0m │ distil_bert_backbone[\u001b[38;5;34m0\u001b[0m][\u001b[38;5;34m0\u001b[0m] │\n",
       "├───────────────────────────────┼───────────────────────────┼─────────────────┼────────────────────────────┤\n",
       "│ pooled_dense (\u001b[38;5;33mDense\u001b[0m)          │ (\u001b[38;5;45mNone\u001b[0m, \u001b[38;5;34m768\u001b[0m)               │         \u001b[38;5;34m590,592\u001b[0m │ get_item[\u001b[38;5;34m0\u001b[0m][\u001b[38;5;34m0\u001b[0m]             │\n",
       "├───────────────────────────────┼───────────────────────────┼─────────────────┼────────────────────────────┤\n",
       "│ output_dropout (\u001b[38;5;33mDropout\u001b[0m)      │ (\u001b[38;5;45mNone\u001b[0m, \u001b[38;5;34m768\u001b[0m)               │               \u001b[38;5;34m0\u001b[0m │ pooled_dense[\u001b[38;5;34m0\u001b[0m][\u001b[38;5;34m0\u001b[0m]         │\n",
       "├───────────────────────────────┼───────────────────────────┼─────────────────┼────────────────────────────┤\n",
       "│ logits (\u001b[38;5;33mDense\u001b[0m)                │ (\u001b[38;5;45mNone\u001b[0m, \u001b[38;5;34m2\u001b[0m)                 │           \u001b[38;5;34m1,538\u001b[0m │ output_dropout[\u001b[38;5;34m0\u001b[0m][\u001b[38;5;34m0\u001b[0m]       │\n",
       "└───────────────────────────────┴───────────────────────────┴─────────────────┴────────────────────────────┘\n"
      ]
     },
     "metadata": {},
     "output_type": "display_data"
    },
    {
     "data": {
      "text/html": [
       "<pre style=\"white-space:pre;overflow-x:auto;line-height:normal;font-family:Menlo,'DejaVu Sans Mono',consolas,'Courier New',monospace\"><span style=\"font-weight: bold\"> Total params: </span><span style=\"color: #00af00; text-decoration-color: #00af00\">66,955,010</span> (255.41 MB)\n",
       "</pre>\n"
      ],
      "text/plain": [
       "\u001b[1m Total params: \u001b[0m\u001b[38;5;34m66,955,010\u001b[0m (255.41 MB)\n"
      ]
     },
     "metadata": {},
     "output_type": "display_data"
    },
    {
     "data": {
      "text/html": [
       "<pre style=\"white-space:pre;overflow-x:auto;line-height:normal;font-family:Menlo,'DejaVu Sans Mono',consolas,'Courier New',monospace\"><span style=\"font-weight: bold\"> Trainable params: </span><span style=\"color: #00af00; text-decoration-color: #00af00\">66,955,010</span> (255.41 MB)\n",
       "</pre>\n"
      ],
      "text/plain": [
       "\u001b[1m Trainable params: \u001b[0m\u001b[38;5;34m66,955,010\u001b[0m (255.41 MB)\n"
      ]
     },
     "metadata": {},
     "output_type": "display_data"
    },
    {
     "data": {
      "text/html": [
       "<pre style=\"white-space:pre;overflow-x:auto;line-height:normal;font-family:Menlo,'DejaVu Sans Mono',consolas,'Courier New',monospace\"><span style=\"font-weight: bold\"> Non-trainable params: </span><span style=\"color: #00af00; text-decoration-color: #00af00\">0</span> (0.00 B)\n",
       "</pre>\n"
      ],
      "text/plain": [
       "\u001b[1m Non-trainable params: \u001b[0m\u001b[38;5;34m0\u001b[0m (0.00 B)\n"
      ]
     },
     "metadata": {},
     "output_type": "display_data"
    }
   ],
   "source": [
    "''' Credit for utilizing the model below deservedly goes to the following notebook: \n",
    "https://www.kaggle.com/code/alexia/kerasnlp-starter-notebook-disaster-tweets#Preprocess-the-data\n",
    "\n",
    "I would not have learned about the different kinds of models that Keras has to offer with text classification without seeing what was possible with the models implemented and the information it had \n",
    "in comparison and research to other preser Keras English language recognition models. This made work on this project much easier. \n",
    "'''\n",
    "\n",
    "# Load DistilBERT model, uncased and based.\n",
    "preset= \"distil_bert_base_en_uncased\"\n",
    "\n",
    "# Use a shorter sequence length - 140\n",
    "preprocessor = keras_nlp.models.DistilBertPreprocessor.from_preset(preset,\n",
    "                                                                   sequence_length=140,\n",
    "                                                                   name=\"preprocessor_4_tweets\"\n",
    "                                                                  )\n",
    "\n",
    "# Pretrain the classifier for model\n",
    "classifier = keras_nlp.models.DistilBertClassifier.from_preset(preset,preprocessor = preprocessor, \n",
    "                                                               num_classes=2)\n",
    "\n",
    "classifier.summary()"
   ]
  },
  {
   "cell_type": "code",
   "execution_count": 44,
   "id": "5c48c6de",
   "metadata": {
    "execution": {
     "iopub.execute_input": "2025-06-22T07:50:53.514722Z",
     "iopub.status.busy": "2025-06-22T07:50:53.514440Z",
     "iopub.status.idle": "2025-06-22T07:50:53.523565Z",
     "shell.execute_reply": "2025-06-22T07:50:53.522749Z"
    },
    "papermill": {
     "duration": 0.02976,
     "end_time": "2025-06-22T07:50:53.524964",
     "exception": false,
     "start_time": "2025-06-22T07:50:53.495204",
     "status": "completed"
    },
    "tags": []
   },
   "outputs": [],
   "source": [
    "# Re-compile data with different learning rate\n",
    "\n",
    "classifier.compile(loss=keras.losses.SparseCategoricalCrossentropy(from_logits=True),\n",
    "                  optimizer=keras.optimizers.Adam(1e-5),\n",
    "                  metrics=['accuracy'])"
   ]
  },
  {
   "cell_type": "code",
   "execution_count": 45,
   "id": "b71d4122",
   "metadata": {
    "execution": {
     "iopub.execute_input": "2025-06-22T07:50:53.569074Z",
     "iopub.status.busy": "2025-06-22T07:50:53.568668Z",
     "iopub.status.idle": "2025-06-22T08:10:01.691327Z",
     "shell.execute_reply": "2025-06-22T08:10:01.690578Z"
    },
    "papermill": {
     "duration": 1148.30756,
     "end_time": "2025-06-22T08:10:01.852740",
     "exception": false,
     "start_time": "2025-06-22T07:50:53.545180",
     "status": "completed"
    },
    "tags": []
   },
   "outputs": [
    {
     "name": "stdout",
     "output_type": "stream",
     "text": [
      "Epoch 1/10\n"
     ]
    },
    {
     "name": "stderr",
     "output_type": "stream",
     "text": [
      "WARNING: All log messages before absl::InitializeLog() is called are written to STDERR\n",
      "I0000 00:00:1750578680.171649      66 service.cc:148] XLA service 0x7cfcf4003470 initialized for platform CUDA (this does not guarantee that XLA will be used). Devices:\n",
      "I0000 00:00:1750578680.172170      66 service.cc:156]   StreamExecutor device (0): Tesla T4, Compute Capability 7.5\n",
      "I0000 00:00:1750578680.172193      66 service.cc:156]   StreamExecutor device (1): Tesla T4, Compute Capability 7.5\n",
      "I0000 00:00:1750578682.483925      66 cuda_dnn.cc:529] Loaded cuDNN version 90300\n",
      "I0000 00:00:1750578699.464981      66 device_compiler.h:188] Compiled cluster using XLA!  This line is logged at most once for the lifetime of the process.\n"
     ]
    },
    {
     "name": "stdout",
     "output_type": "stream",
     "text": [
      "\u001b[1m381/381\u001b[0m \u001b[32m━━━━━━━━━━━━━━━━━━━━\u001b[0m\u001b[37m\u001b[0m \u001b[1m164s\u001b[0m 314ms/step - accuracy: 0.7491 - loss: 0.5434 - val_accuracy: 0.8299 - val_loss: 0.3921\n",
      "Epoch 2/10\n",
      "\u001b[1m381/381\u001b[0m \u001b[32m━━━━━━━━━━━━━━━━━━━━\u001b[0m\u001b[37m\u001b[0m \u001b[1m109s\u001b[0m 286ms/step - accuracy: 0.8577 - loss: 0.3611 - val_accuracy: 0.8378 - val_loss: 0.3875\n",
      "Epoch 3/10\n",
      "\u001b[1m381/381\u001b[0m \u001b[32m━━━━━━━━━━━━━━━━━━━━\u001b[0m\u001b[37m\u001b[0m \u001b[1m108s\u001b[0m 284ms/step - accuracy: 0.8820 - loss: 0.3163 - val_accuracy: 0.8306 - val_loss: 0.4087\n",
      "Epoch 4/10\n",
      "\u001b[1m381/381\u001b[0m \u001b[32m━━━━━━━━━━━━━━━━━━━━\u001b[0m\u001b[37m\u001b[0m \u001b[1m110s\u001b[0m 287ms/step - accuracy: 0.9003 - loss: 0.2688 - val_accuracy: 0.8293 - val_loss: 0.4343\n",
      "Epoch 5/10\n",
      "\u001b[1m381/381\u001b[0m \u001b[32m━━━━━━━━━━━━━━━━━━━━\u001b[0m\u001b[37m\u001b[0m \u001b[1m109s\u001b[0m 286ms/step - accuracy: 0.9155 - loss: 0.2373 - val_accuracy: 0.8280 - val_loss: 0.4607\n",
      "Epoch 6/10\n",
      "\u001b[1m381/381\u001b[0m \u001b[32m━━━━━━━━━━━━━━━━━━━━\u001b[0m\u001b[37m\u001b[0m \u001b[1m109s\u001b[0m 285ms/step - accuracy: 0.9339 - loss: 0.1916 - val_accuracy: 0.8207 - val_loss: 0.5220\n",
      "Epoch 7/10\n",
      "\u001b[1m381/381\u001b[0m \u001b[32m━━━━━━━━━━━━━━━━━━━━\u001b[0m\u001b[37m\u001b[0m \u001b[1m109s\u001b[0m 286ms/step - accuracy: 0.9414 - loss: 0.1608 - val_accuracy: 0.8273 - val_loss: 0.5521\n",
      "Epoch 8/10\n",
      "\u001b[1m381/381\u001b[0m \u001b[32m━━━━━━━━━━━━━━━━━━━━\u001b[0m\u001b[37m\u001b[0m \u001b[1m109s\u001b[0m 286ms/step - accuracy: 0.9481 - loss: 0.1351 - val_accuracy: 0.8194 - val_loss: 0.6180\n",
      "Epoch 9/10\n",
      "\u001b[1m381/381\u001b[0m \u001b[32m━━━━━━━━━━━━━━━━━━━━\u001b[0m\u001b[37m\u001b[0m \u001b[1m110s\u001b[0m 288ms/step - accuracy: 0.9543 - loss: 0.1129 - val_accuracy: 0.8122 - val_loss: 0.6903\n",
      "Epoch 10/10\n",
      "\u001b[1m381/381\u001b[0m \u001b[32m━━━━━━━━━━━━━━━━━━━━\u001b[0m\u001b[37m\u001b[0m \u001b[1m109s\u001b[0m 286ms/step - accuracy: 0.9593 - loss: 0.1067 - val_accuracy: 0.8063 - val_loss: 0.7519\n"
     ]
    }
   ],
   "source": [
    "\n",
    "# Fit the data into the model\n",
    "# Set number of epochs to 10\n",
    "model = classifier.fit(x=x_train, \n",
    "          y=y_train,\n",
    "          batch_size=BATCH_SIZE,\n",
    "       validation_data=(x_valid,y_valid),\n",
    "           epochs=10\n",
    ")"
   ]
  },
  {
   "cell_type": "code",
   "execution_count": 46,
   "id": "2a628b24",
   "metadata": {
    "execution": {
     "iopub.execute_input": "2025-06-22T08:10:02.182710Z",
     "iopub.status.busy": "2025-06-22T08:10:02.182414Z",
     "iopub.status.idle": "2025-06-22T08:10:02.186447Z",
     "shell.execute_reply": "2025-06-22T08:10:02.185675Z"
    },
    "papermill": {
     "duration": 0.169331,
     "end_time": "2025-06-22T08:10:02.187544",
     "exception": false,
     "start_time": "2025-06-22T08:10:02.018213",
     "status": "completed"
    },
    "tags": []
   },
   "outputs": [
    {
     "name": "stdout",
     "output_type": "stream",
     "text": [
      "{'accuracy': [0.800656795501709, 0.8617405295372009, 0.8916256427764893, 0.9100164175033569, 0.9252873659133911, 0.9402298927307129, 0.951724112033844, 0.9587848782539368, 0.9640393853187561, 0.9707717299461365], 'loss': [0.4618181586265564, 0.3494594693183899, 0.29519525170326233, 0.24737878143787384, 0.2105705738067627, 0.16860345005989075, 0.13655482232570648, 0.11402351409196854, 0.09142020344734192, 0.07800612598657608], 'val_accuracy': [0.829940915107727, 0.8378201127052307, 0.8305975198745728, 0.8292843103408813, 0.8279711008071899, 0.820748507976532, 0.8273144960403442, 0.8194352984428406, 0.8122127652168274, 0.8063033223152161], 'val_loss': [0.39208322763442993, 0.38752835988998413, 0.4087079167366028, 0.4343373477458954, 0.46070390939712524, 0.5220147371292114, 0.5521045327186584, 0.617957353591919, 0.6902745962142944, 0.7519214749336243]}\n"
     ]
    }
   ],
   "source": [
    "# Get logs - a full dictionary\n",
    "print(model.history)"
   ]
  },
  {
   "cell_type": "code",
   "execution_count": 47,
   "id": "fe3aadea",
   "metadata": {
    "execution": {
     "iopub.execute_input": "2025-06-22T08:10:02.515017Z",
     "iopub.status.busy": "2025-06-22T08:10:02.514734Z",
     "iopub.status.idle": "2025-06-22T08:10:02.519351Z",
     "shell.execute_reply": "2025-06-22T08:10:02.518800Z"
    },
    "papermill": {
     "duration": 0.17045,
     "end_time": "2025-06-22T08:10:02.520321",
     "exception": false,
     "start_time": "2025-06-22T08:10:02.349871",
     "status": "completed"
    },
    "tags": []
   },
   "outputs": [
    {
     "data": {
      "text/plain": [
       "dict_keys(['accuracy', 'loss', 'val_accuracy', 'val_loss'])"
      ]
     },
     "execution_count": 47,
     "metadata": {},
     "output_type": "execute_result"
    }
   ],
   "source": [
    "# Get keys to save the training and validation logs percentages for each epoch\n",
    "model.history.keys()"
   ]
  },
  {
   "cell_type": "code",
   "execution_count": 48,
   "id": "dae22d19",
   "metadata": {
    "execution": {
     "iopub.execute_input": "2025-06-22T08:10:02.900517Z",
     "iopub.status.busy": "2025-06-22T08:10:02.900249Z",
     "iopub.status.idle": "2025-06-22T08:10:02.904496Z",
     "shell.execute_reply": "2025-06-22T08:10:02.903785Z"
    },
    "papermill": {
     "duration": 0.171059,
     "end_time": "2025-06-22T08:10:02.905582",
     "exception": false,
     "start_time": "2025-06-22T08:10:02.734523",
     "status": "completed"
    },
    "tags": []
   },
   "outputs": [
    {
     "name": "stdout",
     "output_type": "stream",
     "text": [
      "10 <class 'list'>\n"
     ]
    }
   ],
   "source": [
    "# number of values in each list should align to how many epochs were needed to train\n",
    "loss = model.history['loss']\n",
    "val_loss = model.history['val_loss']\n",
    "accuracy = model.history['accuracy']\n",
    "val_accuracy = model.history['val_accuracy']\n",
    "print(len(loss), type(loss))"
   ]
  },
  {
   "cell_type": "markdown",
   "id": "79e05be6",
   "metadata": {
    "papermill": {
     "duration": 0.163842,
     "end_time": "2025-06-22T08:10:03.233908",
     "exception": false,
     "start_time": "2025-06-22T08:10:03.070066",
     "status": "completed"
    },
    "tags": []
   },
   "source": [
    "<a id='Plots'></a>\n",
    "# Plotting Loss\n",
    "Gather all the information from model's history and plot the curves to see how the training data did against the validation data. "
   ]
  },
  {
   "cell_type": "code",
   "execution_count": 49,
   "id": "2635f7e1",
   "metadata": {
    "execution": {
     "iopub.execute_input": "2025-06-22T08:10:03.597510Z",
     "iopub.status.busy": "2025-06-22T08:10:03.597243Z",
     "iopub.status.idle": "2025-06-22T08:10:03.759592Z",
     "shell.execute_reply": "2025-06-22T08:10:03.758879Z"
    },
    "papermill": {
     "duration": 0.3566,
     "end_time": "2025-06-22T08:10:03.760810",
     "exception": false,
     "start_time": "2025-06-22T08:10:03.404210",
     "status": "completed"
    },
    "tags": []
   },
   "outputs": [
    {
     "data": {
      "image/png": "[encoded data removed]",
      "text/plain": [
       "<Figure size 640x480 with 1 Axes>"
      ]
     },
     "metadata": {},
     "output_type": "display_data"
    }
   ],
   "source": [
    "# Initialize x-axis for plots - first plot the loss\n",
    "epochs = list(range(1, len(loss) + 1))\n",
    "\n",
    "plt.figure()\n",
    "plt.plot(epochs, loss, label='Training Loss')\n",
    "plt.plot(epochs, val_loss, label='Validation Loss')\n",
    "plt.title(\"Loss during Training\")\n",
    "plt.xlabel(\"Epochs\")\n",
    "plt.ylabel(\"Loss Rate\")\n",
    "plt.legend()\n",
    "plt.show()"
   ]
  },
  {
   "cell_type": "code",
   "execution_count": 50,
   "id": "34703b23",
   "metadata": {
    "execution": {
     "iopub.execute_input": "2025-06-22T08:10:04.100125Z",
     "iopub.status.busy": "2025-06-22T08:10:04.099847Z",
     "iopub.status.idle": "2025-06-22T08:10:04.275113Z",
     "shell.execute_reply": "2025-06-22T08:10:04.274345Z"
    },
    "papermill": {
     "duration": 0.345151,
     "end_time": "2025-06-22T08:10:04.276266",
     "exception": false,
     "start_time": "2025-06-22T08:10:03.931115",
     "status": "completed"
    },
    "tags": []
   },
   "outputs": [
    {
     "data": {
      "image/png": "[encoded data removed]",
      "text/plain": [
       "<Figure size 640x480 with 1 Axes>"
      ]
     },
     "metadata": {},
     "output_type": "display_data"
    }
   ],
   "source": [
    "# Now plot the accuracy\n",
    "plt.figure()\n",
    "plt.plot(epochs, accuracy, label='Training Accuracy')\n",
    "plt.plot(epochs, val_accuracy, label='Validation Accuracy')\n",
    "plt.title(\"Accuracy during Training\")\n",
    "plt.xlabel(\"Epochs\")\n",
    "plt.ylabel(\"Accuracy Rate\")\n",
    "plt.legend()\n",
    "plt.show()"
   ]
  },
  {
   "cell_type": "code",
   "execution_count": 51,
   "id": "3f6e0950",
   "metadata": {
    "execution": {
     "iopub.execute_input": "2025-06-22T08:10:04.658677Z",
     "iopub.status.busy": "2025-06-22T08:10:04.658381Z",
     "iopub.status.idle": "2025-06-22T08:10:04.663557Z",
     "shell.execute_reply": "2025-06-22T08:10:04.662871Z"
    },
    "papermill": {
     "duration": 0.170553,
     "end_time": "2025-06-22T08:10:04.664688",
     "exception": false,
     "start_time": "2025-06-22T08:10:04.494135",
     "status": "completed"
    },
    "tags": []
   },
   "outputs": [],
   "source": [
    "# Generate Confusion Matrix\n",
    "def getConfusionMatrix(y_true, y_pred, data):\n",
    "    matr = ConfusionMatrixDisplay.from_predictions(y_true, np.argmax(y_pred, axis=1),\n",
    "                                                  display_labels=['Not Disaster Tweet', 'Disaster Tweet'])\n",
    "    true_neg, false_pos, false_neg, true_pos = confusion_matrix(y_true, np.argmax(y_pred, axis=1)).ravel()\n",
    "    precision = true_pos / (true_pos + false_pos)\n",
    "    recall = true_pos / (true_pos + false_neg)\n",
    "    f1 = 2 * ( (precision * recall) / (precision + recall))\n",
    "    matr.ax_.set_title(\"Confusion Matrix on \" + data + \" Dataset -- F1 Score: \" + str(f1.round(3)))\n",
    "    print(precision, recall)\n"
   ]
  },
  {
   "cell_type": "code",
   "execution_count": 52,
   "id": "89ffa174",
   "metadata": {
    "execution": {
     "iopub.execute_input": "2025-06-22T08:10:04.991882Z",
     "iopub.status.busy": "2025-06-22T08:10:04.991586Z",
     "iopub.status.idle": "2025-06-22T08:10:43.296213Z",
     "shell.execute_reply": "2025-06-22T08:10:43.295611Z"
    },
    "papermill": {
     "duration": 38.470511,
     "end_time": "2025-06-22T08:10:43.297795",
     "exception": false,
     "start_time": "2025-06-22T08:10:04.827284",
     "status": "completed"
    },
    "tags": []
   },
   "outputs": [
    {
     "name": "stdout",
     "output_type": "stream",
     "text": [
      "\u001b[1m191/191\u001b[0m \u001b[32m━━━━━━━━━━━━━━━━━━━━\u001b[0m\u001b[37m\u001b[0m \u001b[1m37s\u001b[0m 175ms/step\n"
     ]
    }
   ],
   "source": [
    "# Predict model on x_train \n",
    "y_pred_train = classifier.predict(x_train)"
   ]
  },
  {
   "cell_type": "code",
   "execution_count": 53,
   "id": "a3771915",
   "metadata": {
    "execution": {
     "iopub.execute_input": "2025-06-22T08:10:43.727536Z",
     "iopub.status.busy": "2025-06-22T08:10:43.726753Z",
     "iopub.status.idle": "2025-06-22T08:10:44.458125Z",
     "shell.execute_reply": "2025-06-22T08:10:44.457379Z"
    },
    "papermill": {
     "duration": 0.978664,
     "end_time": "2025-06-22T08:10:44.459253",
     "exception": false,
     "start_time": "2025-06-22T08:10:43.480589",
     "status": "completed"
    },
    "tags": []
   },
   "outputs": [
    {
     "name": "stdout",
     "output_type": "stream",
     "text": [
      "0.9838709677419355 0.9704545454545455\n"
     ]
    },
    {
     "data": {
      "image/png": "[encoded data removed]",
      "text/plain": [
       "<Figure size 640x480 with 2 Axes>"
      ]
     },
     "metadata": {},
     "output_type": "display_data"
    }
   ],
   "source": [
    "# Display the Confusion Matrix for training data\n",
    "getConfusionMatrix(y_train, y_pred_train, \"Training\")"
   ]
  },
  {
   "cell_type": "code",
   "execution_count": 54,
   "id": "4a860dc2",
   "metadata": {
    "execution": {
     "iopub.execute_input": "2025-06-22T08:10:44.816110Z",
     "iopub.status.busy": "2025-06-22T08:10:44.815828Z",
     "iopub.status.idle": "2025-06-22T08:10:55.889164Z",
     "shell.execute_reply": "2025-06-22T08:10:55.888582Z"
    },
    "papermill": {
     "duration": 11.250486,
     "end_time": "2025-06-22T08:10:55.890645",
     "exception": false,
     "start_time": "2025-06-22T08:10:44.640159",
     "status": "completed"
    },
    "tags": []
   },
   "outputs": [
    {
     "name": "stdout",
     "output_type": "stream",
     "text": [
      "\u001b[1m48/48\u001b[0m \u001b[32m━━━━━━━━━━━━━━━━━━━━\u001b[0m\u001b[37m\u001b[0m \u001b[1m10s\u001b[0m 197ms/step\n"
     ]
    }
   ],
   "source": [
    "# Predict model on x_val \n",
    "y_pred_valid = classifier.predict(x_valid)"
   ]
  },
  {
   "cell_type": "code",
   "execution_count": 55,
   "id": "52a0d75e",
   "metadata": {
    "execution": {
     "iopub.execute_input": "2025-06-22T08:10:56.251919Z",
     "iopub.status.busy": "2025-06-22T08:10:56.251211Z",
     "iopub.status.idle": "2025-06-22T08:10:56.435919Z",
     "shell.execute_reply": "2025-06-22T08:10:56.435182Z"
    },
    "papermill": {
     "duration": 0.367976,
     "end_time": "2025-06-22T08:10:56.437184",
     "exception": false,
     "start_time": "2025-06-22T08:10:56.069208",
     "status": "completed"
    },
    "tags": []
   },
   "outputs": [
    {
     "name": "stdout",
     "output_type": "stream",
     "text": [
      "0.760061919504644 0.7781299524564184\n"
     ]
    },
    {
     "data": {
      "image/png": "[encoded data removed]",
      "text/plain": [
       "<Figure size 640x480 with 2 Axes>"
      ]
     },
     "metadata": {},
     "output_type": "display_data"
    }
   ],
   "source": [
    "# Display the Confusion Matrix for the validation data\n",
    "getConfusionMatrix(y_valid, y_pred_valid, \"Training\")"
   ]
  },
  {
   "cell_type": "code",
   "execution_count": 56,
   "id": "f06ca226",
   "metadata": {
    "execution": {
     "iopub.execute_input": "2025-06-22T08:10:56.815637Z",
     "iopub.status.busy": "2025-06-22T08:10:56.815354Z",
     "iopub.status.idle": "2025-06-22T08:10:56.822753Z",
     "shell.execute_reply": "2025-06-22T08:10:56.822222Z"
    },
    "papermill": {
     "duration": 0.183201,
     "end_time": "2025-06-22T08:10:56.823780",
     "exception": false,
     "start_time": "2025-06-22T08:10:56.640579",
     "status": "completed"
    },
    "tags": []
   },
   "outputs": [
    {
     "data": {
      "text/html": [
       "<div>\n",
       "<style scoped>\n",
       "    .dataframe tbody tr th:only-of-type {\n",
       "        vertical-align: middle;\n",
       "    }\n",
       "\n",
       "    .dataframe tbody tr th {\n",
       "        vertical-align: top;\n",
       "    }\n",
       "\n",
       "    .dataframe thead th {\n",
       "        text-align: right;\n",
       "    }\n",
       "</style>\n",
       "<table border=\"1\" class=\"dataframe\">\n",
       "  <thead>\n",
       "    <tr style=\"text-align: right;\">\n",
       "      <th></th>\n",
       "      <th>id</th>\n",
       "      <th>target</th>\n",
       "    </tr>\n",
       "  </thead>\n",
       "  <tbody>\n",
       "    <tr>\n",
       "      <th>0</th>\n",
       "      <td>0</td>\n",
       "      <td>0</td>\n",
       "    </tr>\n",
       "    <tr>\n",
       "      <th>1</th>\n",
       "      <td>2</td>\n",
       "      <td>0</td>\n",
       "    </tr>\n",
       "    <tr>\n",
       "      <th>2</th>\n",
       "      <td>3</td>\n",
       "      <td>0</td>\n",
       "    </tr>\n",
       "    <tr>\n",
       "      <th>3</th>\n",
       "      <td>9</td>\n",
       "      <td>0</td>\n",
       "    </tr>\n",
       "    <tr>\n",
       "      <th>4</th>\n",
       "      <td>11</td>\n",
       "      <td>0</td>\n",
       "    </tr>\n",
       "    <tr>\n",
       "      <th>...</th>\n",
       "      <td>...</td>\n",
       "      <td>...</td>\n",
       "    </tr>\n",
       "    <tr>\n",
       "      <th>3258</th>\n",
       "      <td>10861</td>\n",
       "      <td>0</td>\n",
       "    </tr>\n",
       "    <tr>\n",
       "      <th>3259</th>\n",
       "      <td>10865</td>\n",
       "      <td>0</td>\n",
       "    </tr>\n",
       "    <tr>\n",
       "      <th>3260</th>\n",
       "      <td>10868</td>\n",
       "      <td>0</td>\n",
       "    </tr>\n",
       "    <tr>\n",
       "      <th>3261</th>\n",
       "      <td>10874</td>\n",
       "      <td>0</td>\n",
       "    </tr>\n",
       "    <tr>\n",
       "      <th>3262</th>\n",
       "      <td>10875</td>\n",
       "      <td>0</td>\n",
       "    </tr>\n",
       "  </tbody>\n",
       "</table>\n",
       "<p>3263 rows × 2 columns</p>\n",
       "</div>"
      ],
      "text/plain": [
       "         id  target\n",
       "0         0       0\n",
       "1         2       0\n",
       "2         3       0\n",
       "3         9       0\n",
       "4        11       0\n",
       "...     ...     ...\n",
       "3258  10861       0\n",
       "3259  10865       0\n",
       "3260  10868       0\n",
       "3261  10874       0\n",
       "3262  10875       0\n",
       "\n",
       "[3263 rows x 2 columns]"
      ]
     },
     "execution_count": 56,
     "metadata": {},
     "output_type": "execute_result"
    }
   ],
   "source": [
    "# Check the sample submission file\n",
    "sample"
   ]
  },
  {
   "cell_type": "markdown",
   "id": "fca4e7ce",
   "metadata": {
    "papermill": {
     "duration": 0.22237,
     "end_time": "2025-06-22T08:10:57.220753",
     "exception": false,
     "start_time": "2025-06-22T08:10:56.998383",
     "status": "completed"
    },
    "tags": []
   },
   "source": [
    "<a id='Conclusion'></a>\n",
    "# Conclusion and Submission\n",
    "\n",
    "It can be seen from the confusion matrices that we received some levels of accuracy running the preprocessing and modeling through DistilBERT. <br>\n",
    "The F1 score received for the training data was 0.985, and the validation data 0.757, provided that the validation set was smaller than the training set. <br>\n",
    "There was not much training loss between any of the epochs, as it stayed well below 10% most of the time. <br>\n",
    "It can also be seen that there were a couple of sharp periods of increases when it came to the validation loss. <br>\n",
    "As for the modeling accuracy, the training rate stayed well above 95%, while the validation data model epochs runs ranged anywhere from 79% to 82%. <br>\n",
    "In the validation prediction confusion matrix, there was an equal number of false negative and false positive predictions with 150 and 158, respectively. <br>\n",
    "\n",
    "<h2>Improvements</h2>\n",
    "Any means of improvement can be made to how the text preprocessing was implemented. There certainly are better and more efficient ways of getting rid of extra characters prior to splitting and preprocessing for modeling. A more extensive data analysis and pre-preprocessing, though it may appear unnecessary, would have helped with garnering more accurate results. There were several processing errors trying to fit the data to the model because of how tweets that are text are not always text. Thus, any credit to fellow Kaggle users deserve much thanks, because this notebook would not have run properly without realizing how important it is to periodically look through some of the tweets line by line. \n",
    "<br>\n",
    "Additionally, a different kind of model framework from Keras or TensorFlow would have netted different results. The use of a different count of epochs would have also given the model being trained more opportunities to improve its accuracy. \n"
   ]
  },
  {
   "cell_type": "code",
   "execution_count": 57,
   "id": "1770dccb",
   "metadata": {
    "execution": {
     "iopub.execute_input": "2025-06-22T08:10:57.573444Z",
     "iopub.status.busy": "2025-06-22T08:10:57.573179Z",
     "iopub.status.idle": "2025-06-22T08:11:17.994895Z",
     "shell.execute_reply": "2025-06-22T08:11:17.994257Z"
    },
    "papermill": {
     "duration": 20.601862,
     "end_time": "2025-06-22T08:11:17.996264",
     "exception": false,
     "start_time": "2025-06-22T08:10:57.394402",
     "status": "completed"
    },
    "tags": []
   },
   "outputs": [
    {
     "name": "stdout",
     "output_type": "stream",
     "text": [
      "\u001b[1m102/102\u001b[0m \u001b[32m━━━━━━━━━━━━━━━━━━━━\u001b[0m\u001b[37m\u001b[0m \u001b[1m19s\u001b[0m 184ms/step\n"
     ]
    }
   ],
   "source": [
    "# Alter the submission file column target with the predictions to submit\n",
    "# Use x_test data for the prediction\n",
    "sample['target'] = np.argmax(classifier.predict(x_test), axis=1)"
   ]
  },
  {
   "cell_type": "code",
   "execution_count": 58,
   "id": "233b9bf5",
   "metadata": {
    "execution": {
     "iopub.execute_input": "2025-06-22T08:11:18.355985Z",
     "iopub.status.busy": "2025-06-22T08:11:18.355733Z",
     "iopub.status.idle": "2025-06-22T08:11:18.362318Z",
     "shell.execute_reply": "2025-06-22T08:11:18.361781Z"
    },
    "papermill": {
     "duration": 0.185801,
     "end_time": "2025-06-22T08:11:18.363245",
     "exception": false,
     "start_time": "2025-06-22T08:11:18.177444",
     "status": "completed"
    },
    "tags": []
   },
   "outputs": [
    {
     "data": {
      "text/html": [
       "<div>\n",
       "<style scoped>\n",
       "    .dataframe tbody tr th:only-of-type {\n",
       "        vertical-align: middle;\n",
       "    }\n",
       "\n",
       "    .dataframe tbody tr th {\n",
       "        vertical-align: top;\n",
       "    }\n",
       "\n",
       "    .dataframe thead th {\n",
       "        text-align: right;\n",
       "    }\n",
       "</style>\n",
       "<table border=\"1\" class=\"dataframe\">\n",
       "  <thead>\n",
       "    <tr style=\"text-align: right;\">\n",
       "      <th></th>\n",
       "      <th>id</th>\n",
       "      <th>target</th>\n",
       "    </tr>\n",
       "  </thead>\n",
       "  <tbody>\n",
       "    <tr>\n",
       "      <th>0</th>\n",
       "      <td>0</td>\n",
       "      <td>1</td>\n",
       "    </tr>\n",
       "    <tr>\n",
       "      <th>1</th>\n",
       "      <td>2</td>\n",
       "      <td>1</td>\n",
       "    </tr>\n",
       "    <tr>\n",
       "      <th>2</th>\n",
       "      <td>3</td>\n",
       "      <td>1</td>\n",
       "    </tr>\n",
       "    <tr>\n",
       "      <th>3</th>\n",
       "      <td>9</td>\n",
       "      <td>1</td>\n",
       "    </tr>\n",
       "    <tr>\n",
       "      <th>4</th>\n",
       "      <td>11</td>\n",
       "      <td>1</td>\n",
       "    </tr>\n",
       "  </tbody>\n",
       "</table>\n",
       "</div>"
      ],
      "text/plain": [
       "   id  target\n",
       "0   0       1\n",
       "1   2       1\n",
       "2   3       1\n",
       "3   9       1\n",
       "4  11       1"
      ]
     },
     "execution_count": 58,
     "metadata": {},
     "output_type": "execute_result"
    }
   ],
   "source": [
    "sample.head()"
   ]
  },
  {
   "cell_type": "code",
   "execution_count": 59,
   "id": "8d93c29e",
   "metadata": {
    "execution": {
     "iopub.execute_input": "2025-06-22T08:11:18.731748Z",
     "iopub.status.busy": "2025-06-22T08:11:18.731469Z",
     "iopub.status.idle": "2025-06-22T08:11:18.744014Z",
     "shell.execute_reply": "2025-06-22T08:11:18.743428Z"
    },
    "papermill": {
     "duration": 0.194024,
     "end_time": "2025-06-22T08:11:18.745040",
     "exception": false,
     "start_time": "2025-06-22T08:11:18.551016",
     "status": "completed"
    },
    "tags": []
   },
   "outputs": [
    {
     "data": {
      "text/html": [
       "<div>\n",
       "<style scoped>\n",
       "    .dataframe tbody tr th:only-of-type {\n",
       "        vertical-align: middle;\n",
       "    }\n",
       "\n",
       "    .dataframe tbody tr th {\n",
       "        vertical-align: top;\n",
       "    }\n",
       "\n",
       "    .dataframe thead th {\n",
       "        text-align: right;\n",
       "    }\n",
       "</style>\n",
       "<table border=\"1\" class=\"dataframe\">\n",
       "  <thead>\n",
       "    <tr style=\"text-align: right;\">\n",
       "      <th></th>\n",
       "      <th>id</th>\n",
       "      <th>target</th>\n",
       "    </tr>\n",
       "  </thead>\n",
       "  <tbody>\n",
       "    <tr>\n",
       "      <th>count</th>\n",
       "      <td>3263.000000</td>\n",
       "      <td>3263.000000</td>\n",
       "    </tr>\n",
       "    <tr>\n",
       "      <th>mean</th>\n",
       "      <td>5427.152927</td>\n",
       "      <td>0.423843</td>\n",
       "    </tr>\n",
       "    <tr>\n",
       "      <th>std</th>\n",
       "      <td>3146.427221</td>\n",
       "      <td>0.494242</td>\n",
       "    </tr>\n",
       "    <tr>\n",
       "      <th>min</th>\n",
       "      <td>0.000000</td>\n",
       "      <td>0.000000</td>\n",
       "    </tr>\n",
       "    <tr>\n",
       "      <th>25%</th>\n",
       "      <td>2683.000000</td>\n",
       "      <td>0.000000</td>\n",
       "    </tr>\n",
       "    <tr>\n",
       "      <th>50%</th>\n",
       "      <td>5500.000000</td>\n",
       "      <td>0.000000</td>\n",
       "    </tr>\n",
       "    <tr>\n",
       "      <th>75%</th>\n",
       "      <td>8176.000000</td>\n",
       "      <td>1.000000</td>\n",
       "    </tr>\n",
       "    <tr>\n",
       "      <th>max</th>\n",
       "      <td>10875.000000</td>\n",
       "      <td>1.000000</td>\n",
       "    </tr>\n",
       "  </tbody>\n",
       "</table>\n",
       "</div>"
      ],
      "text/plain": [
       "                 id       target\n",
       "count   3263.000000  3263.000000\n",
       "mean    5427.152927     0.423843\n",
       "std     3146.427221     0.494242\n",
       "min        0.000000     0.000000\n",
       "25%     2683.000000     0.000000\n",
       "50%     5500.000000     0.000000\n",
       "75%     8176.000000     1.000000\n",
       "max    10875.000000     1.000000"
      ]
     },
     "execution_count": 59,
     "metadata": {},
     "output_type": "execute_result"
    }
   ],
   "source": [
    "sample.describe()"
   ]
  },
  {
   "cell_type": "code",
   "execution_count": 60,
   "id": "33b7b424",
   "metadata": {
    "execution": {
     "iopub.execute_input": "2025-06-22T08:11:19.150380Z",
     "iopub.status.busy": "2025-06-22T08:11:19.150116Z",
     "iopub.status.idle": "2025-06-22T08:11:19.160431Z",
     "shell.execute_reply": "2025-06-22T08:11:19.159918Z"
    },
    "papermill": {
     "duration": 0.1911,
     "end_time": "2025-06-22T08:11:19.161503",
     "exception": false,
     "start_time": "2025-06-22T08:11:18.970403",
     "status": "completed"
    },
    "tags": []
   },
   "outputs": [],
   "source": [
    "# Create new submission CSV file - submit to 'submission.csv'\n",
    "sample.to_csv('submission.csv', index=False)"
   ]
  },
  {
   "cell_type": "code",
   "execution_count": null,
   "id": "dfe73028",
   "metadata": {
    "papermill": {
     "duration": 0.180083,
     "end_time": "2025-06-22T08:11:19.521486",
     "exception": false,
     "start_time": "2025-06-22T08:11:19.341403",
     "status": "completed"
    },
    "tags": []
   },
   "outputs": [],
   "source": []
  }
 ],
 "metadata": {
  "kaggle": {
   "accelerator": "nvidiaTeslaT4",
   "dataSources": [
    {
     "databundleVersionId": 869809,
     "sourceId": 17777,
     "sourceType": "competition"
    },
    {
     "modelId": 2821,
     "modelInstanceId": 4689,
     "sourceId": 6068,
     "sourceType": "modelInstanceVersion"
    }
   ],
   "dockerImageVersionId": 31040,
   "isGpuEnabled": true,
   "isInternetEnabled": true,
   "language": "python",
   "sourceType": "notebook"
  },
  "kernelspec": {
   "display_name": "Python 3",
   "language": "python",
   "name": "python3"
  },
  "language_info": {
   "codemirror_mode": {
    "name": "ipython",
    "version": 3
   },
   "file_extension": ".py",
   "mimetype": "text/x-python",
   "name": "python",
   "nbconvert_exporter": "python",
   "pygments_lexer": "ipython3",
   "version": "3.11.11"
  },
  "papermill": {
   "default_parameters": {},
   "duration": 1265.73268,
   "end_time": "2025-06-22T08:11:23.560556",
   "environment_variables": {},
   "exception": null,
   "input_path": "__notebook__.ipynb",
   "output_path": "__notebook__.ipynb",
   "parameters": {},
   "start_time": "2025-06-22T07:50:17.827876",
   "version": "2.6.0"
  }
 },
 "nbformat": 4,
 "nbformat_minor": 5
}
